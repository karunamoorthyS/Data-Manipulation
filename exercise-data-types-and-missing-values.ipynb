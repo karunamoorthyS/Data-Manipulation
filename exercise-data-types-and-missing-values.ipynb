{
 "cells": [
  {
   "cell_type": "markdown",
   "id": "9b801d8e",
   "metadata": {
    "papermill": {
     "duration": 0.015497,
     "end_time": "2022-01-29T14:30:55.884331",
     "exception": false,
     "start_time": "2022-01-29T14:30:55.868834",
     "status": "completed"
    },
    "tags": []
   },
   "source": [
    "**This notebook is an exercise in the [Pandas](https://www.kaggle.com/learn/pandas) course.  You can reference the tutorial at [this link](https://www.kaggle.com/residentmario/data-types-and-missing-values).**\n",
    "\n",
    "---\n"
   ]
  },
  {
   "cell_type": "markdown",
   "id": "9afaec7d",
   "metadata": {
    "papermill": {
     "duration": 0.014642,
     "end_time": "2022-01-29T14:30:55.915092",
     "exception": false,
     "start_time": "2022-01-29T14:30:55.900450",
     "status": "completed"
    },
    "tags": []
   },
   "source": [
    "# Introduction\n",
    "\n",
    "Run the following cell to load your data and some utility functions."
   ]
  },
  {
   "cell_type": "code",
   "execution_count": 1,
   "id": "ceec1bb8",
   "metadata": {
    "execution": {
     "iopub.execute_input": "2022-01-29T14:30:55.954752Z",
     "iopub.status.busy": "2022-01-29T14:30:55.953732Z",
     "iopub.status.idle": "2022-01-29T14:30:59.589448Z",
     "shell.execute_reply": "2022-01-29T14:30:59.590009Z",
     "shell.execute_reply.started": "2022-01-29T14:24:52.055908Z"
    },
    "papermill": {
     "duration": 3.662076,
     "end_time": "2022-01-29T14:30:59.590370",
     "exception": false,
     "start_time": "2022-01-29T14:30:55.928294",
     "status": "completed"
    },
    "tags": []
   },
   "outputs": [
    {
     "name": "stdout",
     "output_type": "stream",
     "text": [
      "Setup complete.\n"
     ]
    }
   ],
   "source": [
    "import pandas as pd\n",
    "\n",
    "reviews = pd.read_csv(\"../input/wine-reviews/winemag-data-130k-v2.csv\", index_col=0)\n",
    "\n",
    "from learntools.core import binder; binder.bind(globals())\n",
    "from learntools.pandas.data_types_and_missing_data import *\n",
    "print(\"Setup complete.\")"
   ]
  },
  {
   "cell_type": "markdown",
   "id": "66d1e826",
   "metadata": {
    "papermill": {
     "duration": 0.012902,
     "end_time": "2022-01-29T14:30:59.617327",
     "exception": false,
     "start_time": "2022-01-29T14:30:59.604425",
     "status": "completed"
    },
    "tags": []
   },
   "source": [
    "# Exercises"
   ]
  },
  {
   "cell_type": "markdown",
   "id": "c86e2e11",
   "metadata": {
    "papermill": {
     "duration": 0.012352,
     "end_time": "2022-01-29T14:30:59.642449",
     "exception": false,
     "start_time": "2022-01-29T14:30:59.630097",
     "status": "completed"
    },
    "tags": []
   },
   "source": [
    "## 1. \n",
    "What is the data type of the `points` column in the dataset?"
   ]
  },
  {
   "cell_type": "code",
   "execution_count": 2,
   "id": "efe620f2",
   "metadata": {
    "execution": {
     "iopub.execute_input": "2022-01-29T14:30:59.680385Z",
     "iopub.status.busy": "2022-01-29T14:30:59.679296Z",
     "iopub.status.idle": "2022-01-29T14:30:59.684494Z",
     "shell.execute_reply": "2022-01-29T14:30:59.685160Z",
     "shell.execute_reply.started": "2022-01-29T14:26:00.309585Z"
    },
    "papermill": {
     "duration": 0.029539,
     "end_time": "2022-01-29T14:30:59.685346",
     "exception": false,
     "start_time": "2022-01-29T14:30:59.655807",
     "status": "completed"
    },
    "tags": []
   },
   "outputs": [
    {
     "data": {
      "application/javascript": [
       "parent.postMessage({\"jupyterEvent\": \"custom.exercise_interaction\", \"data\": {\"outcomeType\": 1, \"valueTowardsCompletion\": 0.25, \"interactionType\": 1, \"questionType\": 1, \"questionId\": \"1_PointsDtype\", \"learnToolsVersion\": \"0.3.4\", \"failureMessage\": \"\", \"exceptionClass\": \"\", \"trace\": \"\"}}, \"*\")"
      ],
      "text/plain": [
       "<IPython.core.display.Javascript object>"
      ]
     },
     "metadata": {},
     "output_type": "display_data"
    },
    {
     "data": {
      "text/markdown": [
       "<span style=\"color:#33cc33\">Correct</span>"
      ],
      "text/plain": [
       "Correct"
      ]
     },
     "metadata": {},
     "output_type": "display_data"
    }
   ],
   "source": [
    "# Your code here\n",
    "dtype = reviews.points.dtype\n",
    "\n",
    "# Check your answer\n",
    "q1.check()"
   ]
  },
  {
   "cell_type": "code",
   "execution_count": 3,
   "id": "724e0218",
   "metadata": {
    "execution": {
     "iopub.execute_input": "2022-01-29T14:30:59.719151Z",
     "iopub.status.busy": "2022-01-29T14:30:59.718143Z",
     "iopub.status.idle": "2022-01-29T14:30:59.721627Z",
     "shell.execute_reply": "2022-01-29T14:30:59.722154Z"
    },
    "papermill": {
     "duration": 0.023072,
     "end_time": "2022-01-29T14:30:59.722339",
     "exception": false,
     "start_time": "2022-01-29T14:30:59.699267",
     "status": "completed"
    },
    "tags": []
   },
   "outputs": [],
   "source": [
    "#q1.hint()\n",
    "#q1.solution()"
   ]
  },
  {
   "cell_type": "markdown",
   "id": "4b6697f3",
   "metadata": {
    "papermill": {
     "duration": 0.013645,
     "end_time": "2022-01-29T14:30:59.749957",
     "exception": false,
     "start_time": "2022-01-29T14:30:59.736312",
     "status": "completed"
    },
    "tags": []
   },
   "source": [
    "## 2. \n",
    "Create a Series from entries in the `points` column, but convert the entries to strings. Hint: strings are `str` in native Python."
   ]
  },
  {
   "cell_type": "code",
   "execution_count": 4,
   "id": "2b4e0d01",
   "metadata": {
    "execution": {
     "iopub.execute_input": "2022-01-29T14:30:59.785770Z",
     "iopub.status.busy": "2022-01-29T14:30:59.784812Z",
     "iopub.status.idle": "2022-01-29T14:30:59.926538Z",
     "shell.execute_reply": "2022-01-29T14:30:59.925924Z",
     "shell.execute_reply.started": "2022-01-29T14:27:09.971774Z"
    },
    "papermill": {
     "duration": 0.161521,
     "end_time": "2022-01-29T14:30:59.926681",
     "exception": false,
     "start_time": "2022-01-29T14:30:59.765160",
     "status": "completed"
    },
    "tags": []
   },
   "outputs": [
    {
     "data": {
      "application/javascript": [
       "parent.postMessage({\"jupyterEvent\": \"custom.exercise_interaction\", \"data\": {\"outcomeType\": 1, \"valueTowardsCompletion\": 0.25, \"interactionType\": 1, \"questionType\": 1, \"questionId\": \"2_StrPoints\", \"learnToolsVersion\": \"0.3.4\", \"failureMessage\": \"\", \"exceptionClass\": \"\", \"trace\": \"\"}}, \"*\")"
      ],
      "text/plain": [
       "<IPython.core.display.Javascript object>"
      ]
     },
     "metadata": {},
     "output_type": "display_data"
    },
    {
     "data": {
      "text/markdown": [
       "<span style=\"color:#33cc33\">Correct</span>"
      ],
      "text/plain": [
       "Correct"
      ]
     },
     "metadata": {},
     "output_type": "display_data"
    }
   ],
   "source": [
    "point_strings = reviews.points.astype(str)\n",
    "\n",
    "# Check your answer\n",
    "q2.check()"
   ]
  },
  {
   "cell_type": "code",
   "execution_count": 5,
   "id": "178ce3ee",
   "metadata": {
    "execution": {
     "iopub.execute_input": "2022-01-29T14:30:59.962292Z",
     "iopub.status.busy": "2022-01-29T14:30:59.961288Z",
     "iopub.status.idle": "2022-01-29T14:30:59.964937Z",
     "shell.execute_reply": "2022-01-29T14:30:59.964336Z",
     "shell.execute_reply.started": "2022-01-29T14:27:24.902152Z"
    },
    "papermill": {
     "duration": 0.023193,
     "end_time": "2022-01-29T14:30:59.965124",
     "exception": false,
     "start_time": "2022-01-29T14:30:59.941931",
     "status": "completed"
    },
    "tags": []
   },
   "outputs": [],
   "source": [
    "#q2.hint()\n",
    "#q2.solution()"
   ]
  },
  {
   "cell_type": "markdown",
   "id": "14e351e0",
   "metadata": {
    "papermill": {
     "duration": 0.016149,
     "end_time": "2022-01-29T14:30:59.997350",
     "exception": false,
     "start_time": "2022-01-29T14:30:59.981201",
     "status": "completed"
    },
    "tags": []
   },
   "source": [
    "## 3.\n",
    "Sometimes the price column is null. How many reviews in the dataset are missing a price?"
   ]
  },
  {
   "cell_type": "code",
   "execution_count": 6,
   "id": "3349b231",
   "metadata": {
    "execution": {
     "iopub.execute_input": "2022-01-29T14:31:00.037559Z",
     "iopub.status.busy": "2022-01-29T14:31:00.035896Z",
     "iopub.status.idle": "2022-01-29T14:31:00.046150Z",
     "shell.execute_reply": "2022-01-29T14:31:00.046749Z",
     "shell.execute_reply.started": "2022-01-29T14:28:34.885288Z"
    },
    "papermill": {
     "duration": 0.033888,
     "end_time": "2022-01-29T14:31:00.046971",
     "exception": false,
     "start_time": "2022-01-29T14:31:00.013083",
     "status": "completed"
    },
    "tags": []
   },
   "outputs": [
    {
     "data": {
      "application/javascript": [
       "parent.postMessage({\"jupyterEvent\": \"custom.exercise_interaction\", \"data\": {\"outcomeType\": 1, \"valueTowardsCompletion\": 0.25, \"interactionType\": 1, \"questionType\": 1, \"questionId\": \"3_CountMissingPrices\", \"learnToolsVersion\": \"0.3.4\", \"failureMessage\": \"\", \"exceptionClass\": \"\", \"trace\": \"\"}}, \"*\")"
      ],
      "text/plain": [
       "<IPython.core.display.Javascript object>"
      ]
     },
     "metadata": {},
     "output_type": "display_data"
    },
    {
     "data": {
      "text/markdown": [
       "<span style=\"color:#33cc33\">Correct</span>"
      ],
      "text/plain": [
       "Correct"
      ]
     },
     "metadata": {},
     "output_type": "display_data"
    }
   ],
   "source": [
    "n_missing_prices = reviews.price.isnull().sum()\n",
    "\n",
    "# Check your answer\n",
    "q3.check()"
   ]
  },
  {
   "cell_type": "code",
   "execution_count": 7,
   "id": "0f0e40dd",
   "metadata": {
    "execution": {
     "iopub.execute_input": "2022-01-29T14:31:00.090366Z",
     "iopub.status.busy": "2022-01-29T14:31:00.089299Z",
     "iopub.status.idle": "2022-01-29T14:31:00.093321Z",
     "shell.execute_reply": "2022-01-29T14:31:00.092590Z",
     "shell.execute_reply.started": "2022-01-29T14:28:38.603619Z"
    },
    "papermill": {
     "duration": 0.027184,
     "end_time": "2022-01-29T14:31:00.093493",
     "exception": false,
     "start_time": "2022-01-29T14:31:00.066309",
     "status": "completed"
    },
    "tags": []
   },
   "outputs": [],
   "source": [
    "#q3.hint()\n",
    "#q3.solution()"
   ]
  },
  {
   "cell_type": "markdown",
   "id": "a1c9bd51",
   "metadata": {
    "papermill": {
     "duration": 0.017151,
     "end_time": "2022-01-29T14:31:00.130403",
     "exception": false,
     "start_time": "2022-01-29T14:31:00.113252",
     "status": "completed"
    },
    "tags": []
   },
   "source": [
    "## 4.\n",
    "What are the most common wine-producing regions? Create a Series counting the number of times each value occurs in the `region_1` field. This field is often missing data, so replace missing values with `Unknown`. Sort in descending order.  Your output should look something like this:\n",
    "\n",
    "```\n",
    "Unknown                    21247\n",
    "Napa Valley                 4480\n",
    "                           ...  \n",
    "Bardolino Superiore            1\n",
    "Primitivo del Tarantino        1\n",
    "Name: region_1, Length: 1230, dtype: int64\n",
    "```"
   ]
  },
  {
   "cell_type": "code",
   "execution_count": 8,
   "id": "8f10c468",
   "metadata": {
    "execution": {
     "iopub.execute_input": "2022-01-29T14:31:00.185419Z",
     "iopub.status.busy": "2022-01-29T14:31:00.184194Z",
     "iopub.status.idle": "2022-01-29T14:31:00.252707Z",
     "shell.execute_reply": "2022-01-29T14:31:00.251895Z",
     "shell.execute_reply.started": "2022-01-29T14:29:07.894537Z"
    },
    "papermill": {
     "duration": 0.105628,
     "end_time": "2022-01-29T14:31:00.252908",
     "exception": false,
     "start_time": "2022-01-29T14:31:00.147280",
     "status": "completed"
    },
    "tags": []
   },
   "outputs": [
    {
     "data": {
      "application/javascript": [
       "parent.postMessage({\"jupyterEvent\": \"custom.exercise_interaction\", \"data\": {\"outcomeType\": 1, \"valueTowardsCompletion\": 0.25, \"interactionType\": 1, \"questionType\": 2, \"questionId\": \"4_ReviewsPerRegion\", \"learnToolsVersion\": \"0.3.4\", \"failureMessage\": \"\", \"exceptionClass\": \"\", \"trace\": \"\"}}, \"*\")"
      ],
      "text/plain": [
       "<IPython.core.display.Javascript object>"
      ]
     },
     "metadata": {},
     "output_type": "display_data"
    },
    {
     "data": {
      "text/markdown": [
       "<span style=\"color:#33cc33\">Correct</span>"
      ],
      "text/plain": [
       "Correct"
      ]
     },
     "metadata": {},
     "output_type": "display_data"
    }
   ],
   "source": [
    "reviews_per_region = reviews.region_1.fillna('Unknown').value_counts().sort_values(ascending=False)\n",
    "\n",
    "# Check your answer\n",
    "q4.check()"
   ]
  },
  {
   "cell_type": "code",
   "execution_count": 9,
   "id": "62e9b397",
   "metadata": {
    "execution": {
     "iopub.execute_input": "2022-01-29T14:31:00.295506Z",
     "iopub.status.busy": "2022-01-29T14:31:00.294442Z",
     "iopub.status.idle": "2022-01-29T14:31:00.297543Z",
     "shell.execute_reply": "2022-01-29T14:31:00.296867Z",
     "shell.execute_reply.started": "2022-01-29T14:29:12.415589Z"
    },
    "papermill": {
     "duration": 0.025429,
     "end_time": "2022-01-29T14:31:00.297718",
     "exception": false,
     "start_time": "2022-01-29T14:31:00.272289",
     "status": "completed"
    },
    "tags": []
   },
   "outputs": [],
   "source": [
    "#q4.hint()\n",
    "#q4.solution()"
   ]
  },
  {
   "cell_type": "markdown",
   "id": "0c354d10",
   "metadata": {
    "papermill": {
     "duration": 0.017983,
     "end_time": "2022-01-29T14:31:00.336136",
     "exception": false,
     "start_time": "2022-01-29T14:31:00.318153",
     "status": "completed"
    },
    "tags": []
   },
   "source": [
    "# Keep going\n",
    "\n",
    "Move on to **[renaming and combining](https://www.kaggle.com/residentmario/renaming-and-combining)**."
   ]
  },
  {
   "cell_type": "markdown",
   "id": "e69de3f6",
   "metadata": {
    "papermill": {
     "duration": 0.018166,
     "end_time": "2022-01-29T14:31:00.372879",
     "exception": false,
     "start_time": "2022-01-29T14:31:00.354713",
     "status": "completed"
    },
    "tags": []
   },
   "source": [
    "---\n",
    "\n",
    "\n",
    "\n",
    "\n",
    "*Have questions or comments? Visit the [course discussion forum](https://www.kaggle.com/learn/pandas/discussion) to chat with other learners.*"
   ]
  }
 ],
 "metadata": {
  "kernelspec": {
   "display_name": "Python 3",
   "language": "python",
   "name": "python3"
  },
  "language_info": {
   "codemirror_mode": {
    "name": "ipython",
    "version": 3
   },
   "file_extension": ".py",
   "mimetype": "text/x-python",
   "name": "python",
   "nbconvert_exporter": "python",
   "pygments_lexer": "ipython3",
   "version": "3.7.12"
  },
  "papermill": {
   "default_parameters": {},
   "duration": 16.549325,
   "end_time": "2022-01-29T14:31:01.100886",
   "environment_variables": {},
   "exception": null,
   "input_path": "__notebook__.ipynb",
   "output_path": "__notebook__.ipynb",
   "parameters": {},
   "start_time": "2022-01-29T14:30:44.551561",
   "version": "2.3.3"
  }
 },
 "nbformat": 4,
 "nbformat_minor": 5
}
