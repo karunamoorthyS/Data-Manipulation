{
 "cells": [
  {
   "cell_type": "markdown",
   "id": "ebb1656d",
   "metadata": {
    "papermill": {
     "duration": 0.019089,
     "end_time": "2022-01-29T14:15:43.766156",
     "exception": false,
     "start_time": "2022-01-29T14:15:43.747067",
     "status": "completed"
    },
    "tags": []
   },
   "source": [
    "**This notebook is an exercise in the [Pandas](https://www.kaggle.com/learn/pandas) course.  You can reference the tutorial at [this link](https://www.kaggle.com/residentmario/summary-functions-and-maps).**\n",
    "\n",
    "---\n"
   ]
  },
  {
   "cell_type": "markdown",
   "id": "ca3271e2",
   "metadata": {
    "papermill": {
     "duration": 0.017603,
     "end_time": "2022-01-29T14:15:43.804013",
     "exception": false,
     "start_time": "2022-01-29T14:15:43.786410",
     "status": "completed"
    },
    "tags": []
   },
   "source": [
    "# Introduction\n",
    "\n",
    "Now you are ready to get a deeper understanding of your data.\n",
    "\n",
    "Run the following cell to load your data and some utility functions (including code to check your answers)."
   ]
  },
  {
   "cell_type": "code",
   "execution_count": 1,
   "id": "7552a48e",
   "metadata": {
    "execution": {
     "iopub.execute_input": "2022-01-29T14:15:43.849828Z",
     "iopub.status.busy": "2022-01-29T14:15:43.849208Z",
     "iopub.status.idle": "2022-01-29T14:15:51.768058Z",
     "shell.execute_reply": "2022-01-29T14:15:51.767358Z",
     "shell.execute_reply.started": "2022-01-29T14:10:51.098161Z"
    },
    "papermill": {
     "duration": 7.945893,
     "end_time": "2022-01-29T14:15:51.768203",
     "exception": false,
     "start_time": "2022-01-29T14:15:43.822310",
     "status": "completed"
    },
    "tags": []
   },
   "outputs": [
    {
     "name": "stdout",
     "output_type": "stream",
     "text": [
      "Setup complete.\n"
     ]
    },
    {
     "data": {
      "text/html": [
       "<div>\n",
       "<style scoped>\n",
       "    .dataframe tbody tr th:only-of-type {\n",
       "        vertical-align: middle;\n",
       "    }\n",
       "\n",
       "    .dataframe tbody tr th {\n",
       "        vertical-align: top;\n",
       "    }\n",
       "\n",
       "    .dataframe thead th {\n",
       "        text-align: right;\n",
       "    }\n",
       "</style>\n",
       "<table border=\"1\" class=\"dataframe\">\n",
       "  <thead>\n",
       "    <tr style=\"text-align: right;\">\n",
       "      <th></th>\n",
       "      <th>country</th>\n",
       "      <th>description</th>\n",
       "      <th>designation</th>\n",
       "      <th>points</th>\n",
       "      <th>price</th>\n",
       "      <th>province</th>\n",
       "      <th>region_1</th>\n",
       "      <th>region_2</th>\n",
       "      <th>taster_name</th>\n",
       "      <th>taster_twitter_handle</th>\n",
       "      <th>title</th>\n",
       "      <th>variety</th>\n",
       "      <th>winery</th>\n",
       "    </tr>\n",
       "  </thead>\n",
       "  <tbody>\n",
       "    <tr>\n",
       "      <th>0</th>\n",
       "      <td>Italy</td>\n",
       "      <td>Aromas include tropical fruit, broom, brimston...</td>\n",
       "      <td>Vulkà Bianco</td>\n",
       "      <td>87</td>\n",
       "      <td>NaN</td>\n",
       "      <td>Sicily &amp; Sardinia</td>\n",
       "      <td>Etna</td>\n",
       "      <td>NaN</td>\n",
       "      <td>Kerin O’Keefe</td>\n",
       "      <td>@kerinokeefe</td>\n",
       "      <td>Nicosia 2013 Vulkà Bianco  (Etna)</td>\n",
       "      <td>White Blend</td>\n",
       "      <td>Nicosia</td>\n",
       "    </tr>\n",
       "    <tr>\n",
       "      <th>1</th>\n",
       "      <td>Portugal</td>\n",
       "      <td>This is ripe and fruity, a wine that is smooth...</td>\n",
       "      <td>Avidagos</td>\n",
       "      <td>87</td>\n",
       "      <td>15.0</td>\n",
       "      <td>Douro</td>\n",
       "      <td>NaN</td>\n",
       "      <td>NaN</td>\n",
       "      <td>Roger Voss</td>\n",
       "      <td>@vossroger</td>\n",
       "      <td>Quinta dos Avidagos 2011 Avidagos Red (Douro)</td>\n",
       "      <td>Portuguese Red</td>\n",
       "      <td>Quinta dos Avidagos</td>\n",
       "    </tr>\n",
       "    <tr>\n",
       "      <th>2</th>\n",
       "      <td>US</td>\n",
       "      <td>Tart and snappy, the flavors of lime flesh and...</td>\n",
       "      <td>NaN</td>\n",
       "      <td>87</td>\n",
       "      <td>14.0</td>\n",
       "      <td>Oregon</td>\n",
       "      <td>Willamette Valley</td>\n",
       "      <td>Willamette Valley</td>\n",
       "      <td>Paul Gregutt</td>\n",
       "      <td>@paulgwine</td>\n",
       "      <td>Rainstorm 2013 Pinot Gris (Willamette Valley)</td>\n",
       "      <td>Pinot Gris</td>\n",
       "      <td>Rainstorm</td>\n",
       "    </tr>\n",
       "    <tr>\n",
       "      <th>3</th>\n",
       "      <td>US</td>\n",
       "      <td>Pineapple rind, lemon pith and orange blossom ...</td>\n",
       "      <td>Reserve Late Harvest</td>\n",
       "      <td>87</td>\n",
       "      <td>13.0</td>\n",
       "      <td>Michigan</td>\n",
       "      <td>Lake Michigan Shore</td>\n",
       "      <td>NaN</td>\n",
       "      <td>Alexander Peartree</td>\n",
       "      <td>NaN</td>\n",
       "      <td>St. Julian 2013 Reserve Late Harvest Riesling ...</td>\n",
       "      <td>Riesling</td>\n",
       "      <td>St. Julian</td>\n",
       "    </tr>\n",
       "    <tr>\n",
       "      <th>4</th>\n",
       "      <td>US</td>\n",
       "      <td>Much like the regular bottling from 2012, this...</td>\n",
       "      <td>Vintner's Reserve Wild Child Block</td>\n",
       "      <td>87</td>\n",
       "      <td>65.0</td>\n",
       "      <td>Oregon</td>\n",
       "      <td>Willamette Valley</td>\n",
       "      <td>Willamette Valley</td>\n",
       "      <td>Paul Gregutt</td>\n",
       "      <td>@paulgwine</td>\n",
       "      <td>Sweet Cheeks 2012 Vintner's Reserve Wild Child...</td>\n",
       "      <td>Pinot Noir</td>\n",
       "      <td>Sweet Cheeks</td>\n",
       "    </tr>\n",
       "  </tbody>\n",
       "</table>\n",
       "</div>"
      ],
      "text/plain": [
       "    country                                        description  \\\n",
       "0     Italy  Aromas include tropical fruit, broom, brimston...   \n",
       "1  Portugal  This is ripe and fruity, a wine that is smooth...   \n",
       "2        US  Tart and snappy, the flavors of lime flesh and...   \n",
       "3        US  Pineapple rind, lemon pith and orange blossom ...   \n",
       "4        US  Much like the regular bottling from 2012, this...   \n",
       "\n",
       "                          designation  points  price           province  \\\n",
       "0                        Vulkà Bianco      87    NaN  Sicily & Sardinia   \n",
       "1                            Avidagos      87   15.0              Douro   \n",
       "2                                 NaN      87   14.0             Oregon   \n",
       "3                Reserve Late Harvest      87   13.0           Michigan   \n",
       "4  Vintner's Reserve Wild Child Block      87   65.0             Oregon   \n",
       "\n",
       "              region_1           region_2         taster_name  \\\n",
       "0                 Etna                NaN       Kerin O’Keefe   \n",
       "1                  NaN                NaN          Roger Voss   \n",
       "2    Willamette Valley  Willamette Valley        Paul Gregutt   \n",
       "3  Lake Michigan Shore                NaN  Alexander Peartree   \n",
       "4    Willamette Valley  Willamette Valley        Paul Gregutt   \n",
       "\n",
       "  taster_twitter_handle                                              title  \\\n",
       "0          @kerinokeefe                  Nicosia 2013 Vulkà Bianco  (Etna)   \n",
       "1            @vossroger      Quinta dos Avidagos 2011 Avidagos Red (Douro)   \n",
       "2           @paulgwine       Rainstorm 2013 Pinot Gris (Willamette Valley)   \n",
       "3                   NaN  St. Julian 2013 Reserve Late Harvest Riesling ...   \n",
       "4           @paulgwine   Sweet Cheeks 2012 Vintner's Reserve Wild Child...   \n",
       "\n",
       "          variety               winery  \n",
       "0     White Blend              Nicosia  \n",
       "1  Portuguese Red  Quinta dos Avidagos  \n",
       "2      Pinot Gris            Rainstorm  \n",
       "3        Riesling           St. Julian  \n",
       "4      Pinot Noir         Sweet Cheeks  "
      ]
     },
     "execution_count": 1,
     "metadata": {},
     "output_type": "execute_result"
    }
   ],
   "source": [
    "import pandas as pd\n",
    "pd.set_option(\"display.max_rows\", 5)\n",
    "reviews = pd.read_csv(\"../input/wine-reviews/winemag-data-130k-v2.csv\", index_col=0)\n",
    "\n",
    "from learntools.core import binder; binder.bind(globals())\n",
    "from learntools.pandas.summary_functions_and_maps import *\n",
    "print(\"Setup complete.\")\n",
    "\n",
    "reviews.head()"
   ]
  },
  {
   "cell_type": "markdown",
   "id": "5d99a452",
   "metadata": {
    "papermill": {
     "duration": 0.018971,
     "end_time": "2022-01-29T14:15:51.807174",
     "exception": false,
     "start_time": "2022-01-29T14:15:51.788203",
     "status": "completed"
    },
    "tags": []
   },
   "source": [
    "# Exercises"
   ]
  },
  {
   "cell_type": "markdown",
   "id": "8d324ca7",
   "metadata": {
    "papermill": {
     "duration": 0.018744,
     "end_time": "2022-01-29T14:15:51.845133",
     "exception": false,
     "start_time": "2022-01-29T14:15:51.826389",
     "status": "completed"
    },
    "tags": []
   },
   "source": [
    "## 1.\n",
    "\n",
    "What is the median of the `points` column in the `reviews` DataFrame?"
   ]
  },
  {
   "cell_type": "code",
   "execution_count": 2,
   "id": "d627a39e",
   "metadata": {
    "execution": {
     "iopub.execute_input": "2022-01-29T14:15:51.887965Z",
     "iopub.status.busy": "2022-01-29T14:15:51.887354Z",
     "iopub.status.idle": "2022-01-29T14:15:51.892734Z",
     "shell.execute_reply": "2022-01-29T14:15:51.893281Z",
     "shell.execute_reply.started": "2022-01-29T14:11:47.755685Z"
    },
    "papermill": {
     "duration": 0.029076,
     "end_time": "2022-01-29T14:15:51.893460",
     "exception": false,
     "start_time": "2022-01-29T14:15:51.864384",
     "status": "completed"
    },
    "tags": []
   },
   "outputs": [
    {
     "data": {
      "application/javascript": [
       "parent.postMessage({\"jupyterEvent\": \"custom.exercise_interaction\", \"data\": {\"outcomeType\": 1, \"valueTowardsCompletion\": 0.14285714285714285, \"interactionType\": 1, \"questionType\": 1, \"questionId\": \"1_MedianPoints\", \"learnToolsVersion\": \"0.3.4\", \"failureMessage\": \"\", \"exceptionClass\": \"\", \"trace\": \"\"}}, \"*\")"
      ],
      "text/plain": [
       "<IPython.core.display.Javascript object>"
      ]
     },
     "metadata": {},
     "output_type": "display_data"
    },
    {
     "data": {
      "text/markdown": [
       "<span style=\"color:#33cc33\">Correct</span>"
      ],
      "text/plain": [
       "Correct"
      ]
     },
     "metadata": {},
     "output_type": "display_data"
    }
   ],
   "source": [
    "median_points = reviews.points.median()\n",
    "\n",
    "# Check your answer\n",
    "q1.check()"
   ]
  },
  {
   "cell_type": "code",
   "execution_count": 3,
   "id": "a62b991d",
   "metadata": {
    "execution": {
     "iopub.execute_input": "2022-01-29T14:15:51.936742Z",
     "iopub.status.busy": "2022-01-29T14:15:51.935992Z",
     "iopub.status.idle": "2022-01-29T14:15:51.938558Z",
     "shell.execute_reply": "2022-01-29T14:15:51.939092Z"
    },
    "papermill": {
     "duration": 0.025795,
     "end_time": "2022-01-29T14:15:51.939298",
     "exception": false,
     "start_time": "2022-01-29T14:15:51.913503",
     "status": "completed"
    },
    "tags": []
   },
   "outputs": [],
   "source": [
    "#q1.hint()\n",
    "#q1.solution()"
   ]
  },
  {
   "cell_type": "markdown",
   "id": "88045b8f",
   "metadata": {
    "papermill": {
     "duration": 0.019579,
     "end_time": "2022-01-29T14:15:51.979203",
     "exception": false,
     "start_time": "2022-01-29T14:15:51.959624",
     "status": "completed"
    },
    "tags": []
   },
   "source": [
    "## 2. \n",
    "What countries are represented in the dataset? (Your answer should not include any duplicates.)"
   ]
  },
  {
   "cell_type": "code",
   "execution_count": 4,
   "id": "a4ee5a0b",
   "metadata": {
    "execution": {
     "iopub.execute_input": "2022-01-29T14:15:52.027737Z",
     "iopub.status.busy": "2022-01-29T14:15:52.026848Z",
     "iopub.status.idle": "2022-01-29T14:15:52.041952Z",
     "shell.execute_reply": "2022-01-29T14:15:52.041481Z",
     "shell.execute_reply.started": "2022-01-29T14:12:56.019698Z"
    },
    "papermill": {
     "duration": 0.04331,
     "end_time": "2022-01-29T14:15:52.042113",
     "exception": false,
     "start_time": "2022-01-29T14:15:51.998803",
     "status": "completed"
    },
    "tags": []
   },
   "outputs": [
    {
     "data": {
      "application/javascript": [
       "parent.postMessage({\"jupyterEvent\": \"custom.exercise_interaction\", \"data\": {\"outcomeType\": 1, \"valueTowardsCompletion\": 0.14285714285714285, \"interactionType\": 1, \"questionType\": 2, \"questionId\": \"2_UniqueCountries\", \"learnToolsVersion\": \"0.3.4\", \"failureMessage\": \"\", \"exceptionClass\": \"\", \"trace\": \"\"}}, \"*\")"
      ],
      "text/plain": [
       "<IPython.core.display.Javascript object>"
      ]
     },
     "metadata": {},
     "output_type": "display_data"
    },
    {
     "data": {
      "text/markdown": [
       "<span style=\"color:#33cc33\">Correct</span>"
      ],
      "text/plain": [
       "Correct"
      ]
     },
     "metadata": {},
     "output_type": "display_data"
    }
   ],
   "source": [
    "countries = reviews.country.unique()\n",
    "\n",
    "# Check your answer\n",
    "q2.check()"
   ]
  },
  {
   "cell_type": "code",
   "execution_count": 5,
   "id": "3d5c893f",
   "metadata": {
    "execution": {
     "iopub.execute_input": "2022-01-29T14:15:52.088552Z",
     "iopub.status.busy": "2022-01-29T14:15:52.087631Z",
     "iopub.status.idle": "2022-01-29T14:15:52.090601Z",
     "shell.execute_reply": "2022-01-29T14:15:52.090108Z",
     "shell.execute_reply.started": "2022-01-29T14:13:00.634074Z"
    },
    "papermill": {
     "duration": 0.027624,
     "end_time": "2022-01-29T14:15:52.090736",
     "exception": false,
     "start_time": "2022-01-29T14:15:52.063112",
     "status": "completed"
    },
    "tags": []
   },
   "outputs": [],
   "source": [
    "#q2.hint()\n",
    "#q2.solution()"
   ]
  },
  {
   "cell_type": "markdown",
   "id": "eb23da30",
   "metadata": {
    "papermill": {
     "duration": 0.020845,
     "end_time": "2022-01-29T14:15:52.132880",
     "exception": false,
     "start_time": "2022-01-29T14:15:52.112035",
     "status": "completed"
    },
    "tags": []
   },
   "source": [
    "## 3.\n",
    "How often does each country appear in the dataset? Create a Series `reviews_per_country` mapping countries to the count of reviews of wines from that country."
   ]
  },
  {
   "cell_type": "code",
   "execution_count": 6,
   "id": "d34ca875",
   "metadata": {
    "execution": {
     "iopub.execute_input": "2022-01-29T14:15:52.200946Z",
     "iopub.status.busy": "2022-01-29T14:15:52.200308Z",
     "iopub.status.idle": "2022-01-29T14:15:52.203904Z",
     "shell.execute_reply": "2022-01-29T14:15:52.204393Z",
     "shell.execute_reply.started": "2022-01-29T14:13:18.819545Z"
    },
    "papermill": {
     "duration": 0.050746,
     "end_time": "2022-01-29T14:15:52.204588",
     "exception": false,
     "start_time": "2022-01-29T14:15:52.153842",
     "status": "completed"
    },
    "tags": []
   },
   "outputs": [
    {
     "data": {
      "application/javascript": [
       "parent.postMessage({\"jupyterEvent\": \"custom.exercise_interaction\", \"data\": {\"outcomeType\": 1, \"valueTowardsCompletion\": 0.14285714285714285, \"interactionType\": 1, \"questionType\": 1, \"questionId\": \"3_ReviewsPerCountry\", \"learnToolsVersion\": \"0.3.4\", \"failureMessage\": \"\", \"exceptionClass\": \"\", \"trace\": \"\"}}, \"*\")"
      ],
      "text/plain": [
       "<IPython.core.display.Javascript object>"
      ]
     },
     "metadata": {},
     "output_type": "display_data"
    },
    {
     "data": {
      "text/markdown": [
       "<span style=\"color:#33cc33\">Correct</span>"
      ],
      "text/plain": [
       "Correct"
      ]
     },
     "metadata": {},
     "output_type": "display_data"
    }
   ],
   "source": [
    "reviews_per_country = reviews.country.value_counts()\n",
    "\n",
    "# Check your answer\n",
    "q3.check()"
   ]
  },
  {
   "cell_type": "code",
   "execution_count": 7,
   "id": "e64e0748",
   "metadata": {
    "execution": {
     "iopub.execute_input": "2022-01-29T14:15:52.252588Z",
     "iopub.status.busy": "2022-01-29T14:15:52.251966Z",
     "iopub.status.idle": "2022-01-29T14:15:52.253625Z",
     "shell.execute_reply": "2022-01-29T14:15:52.254095Z",
     "shell.execute_reply.started": "2022-01-29T14:13:22.509217Z"
    },
    "papermill": {
     "duration": 0.0278,
     "end_time": "2022-01-29T14:15:52.254245",
     "exception": false,
     "start_time": "2022-01-29T14:15:52.226445",
     "status": "completed"
    },
    "tags": []
   },
   "outputs": [],
   "source": [
    "#q3.hint()\n",
    "#q3.solution()"
   ]
  },
  {
   "cell_type": "markdown",
   "id": "b892d4fe",
   "metadata": {
    "papermill": {
     "duration": 0.021805,
     "end_time": "2022-01-29T14:15:52.298162",
     "exception": false,
     "start_time": "2022-01-29T14:15:52.276357",
     "status": "completed"
    },
    "tags": []
   },
   "source": [
    "## 4.\n",
    "Create variable `centered_price` containing a version of the `price` column with the mean price subtracted.\n",
    "\n",
    "(Note: this 'centering' transformation is a common preprocessing step before applying various machine learning algorithms.) "
   ]
  },
  {
   "cell_type": "code",
   "execution_count": 8,
   "id": "87b52276",
   "metadata": {
    "execution": {
     "iopub.execute_input": "2022-01-29T14:15:52.346002Z",
     "iopub.status.busy": "2022-01-29T14:15:52.345391Z",
     "iopub.status.idle": "2022-01-29T14:15:52.352390Z",
     "shell.execute_reply": "2022-01-29T14:15:52.352878Z",
     "shell.execute_reply.started": "2022-01-29T14:13:37.515216Z"
    },
    "papermill": {
     "duration": 0.032537,
     "end_time": "2022-01-29T14:15:52.353043",
     "exception": false,
     "start_time": "2022-01-29T14:15:52.320506",
     "status": "completed"
    },
    "tags": []
   },
   "outputs": [
    {
     "data": {
      "application/javascript": [
       "parent.postMessage({\"jupyterEvent\": \"custom.exercise_interaction\", \"data\": {\"outcomeType\": 1, \"valueTowardsCompletion\": 0.14285714285714285, \"interactionType\": 1, \"questionType\": 1, \"questionId\": \"4_CenteredPrice\", \"learnToolsVersion\": \"0.3.4\", \"failureMessage\": \"\", \"exceptionClass\": \"\", \"trace\": \"\"}}, \"*\")"
      ],
      "text/plain": [
       "<IPython.core.display.Javascript object>"
      ]
     },
     "metadata": {},
     "output_type": "display_data"
    },
    {
     "data": {
      "text/markdown": [
       "<span style=\"color:#33cc33\">Correct</span>"
      ],
      "text/plain": [
       "Correct"
      ]
     },
     "metadata": {},
     "output_type": "display_data"
    }
   ],
   "source": [
    "centered_price = reviews.price - reviews.price.mean()\n",
    "\n",
    "# Check your answer\n",
    "q4.check()"
   ]
  },
  {
   "cell_type": "code",
   "execution_count": 9,
   "id": "ea4d1f34",
   "metadata": {
    "execution": {
     "iopub.execute_input": "2022-01-29T14:15:52.403590Z",
     "iopub.status.busy": "2022-01-29T14:15:52.402969Z",
     "iopub.status.idle": "2022-01-29T14:15:52.405355Z",
     "shell.execute_reply": "2022-01-29T14:15:52.405837Z",
     "shell.execute_reply.started": "2022-01-29T14:13:44.863233Z"
    },
    "papermill": {
     "duration": 0.028559,
     "end_time": "2022-01-29T14:15:52.406001",
     "exception": false,
     "start_time": "2022-01-29T14:15:52.377442",
     "status": "completed"
    },
    "tags": []
   },
   "outputs": [],
   "source": [
    "#q4.hint()\n",
    "#q4.solution()"
   ]
  },
  {
   "cell_type": "markdown",
   "id": "16a76503",
   "metadata": {
    "papermill": {
     "duration": 0.023553,
     "end_time": "2022-01-29T14:15:52.452374",
     "exception": false,
     "start_time": "2022-01-29T14:15:52.428821",
     "status": "completed"
    },
    "tags": []
   },
   "source": [
    "## 5.\n",
    "I'm an economical wine buyer. Which wine is the \"best bargain\"? Create a variable `bargain_wine` with the title of the wine with the highest points-to-price ratio in the dataset."
   ]
  },
  {
   "cell_type": "code",
   "execution_count": 10,
   "id": "f4221df0",
   "metadata": {
    "execution": {
     "iopub.execute_input": "2022-01-29T14:15:52.502658Z",
     "iopub.status.busy": "2022-01-29T14:15:52.502048Z",
     "iopub.status.idle": "2022-01-29T14:15:52.512318Z",
     "shell.execute_reply": "2022-01-29T14:15:52.512801Z",
     "shell.execute_reply.started": "2022-01-29T14:14:00.621138Z"
    },
    "papermill": {
     "duration": 0.036896,
     "end_time": "2022-01-29T14:15:52.512965",
     "exception": false,
     "start_time": "2022-01-29T14:15:52.476069",
     "status": "completed"
    },
    "tags": []
   },
   "outputs": [
    {
     "data": {
      "application/javascript": [
       "parent.postMessage({\"jupyterEvent\": \"custom.exercise_interaction\", \"data\": {\"outcomeType\": 1, \"valueTowardsCompletion\": 0.14285714285714285, \"interactionType\": 1, \"questionType\": 2, \"questionId\": \"5_BargainWine\", \"learnToolsVersion\": \"0.3.4\", \"failureMessage\": \"\", \"exceptionClass\": \"\", \"trace\": \"\"}}, \"*\")"
      ],
      "text/plain": [
       "<IPython.core.display.Javascript object>"
      ]
     },
     "metadata": {},
     "output_type": "display_data"
    },
    {
     "data": {
      "text/markdown": [
       "<span style=\"color:#33cc33\">Correct</span>"
      ],
      "text/plain": [
       "Correct"
      ]
     },
     "metadata": {},
     "output_type": "display_data"
    }
   ],
   "source": [
    "bargain_idx = (reviews.points / reviews.price).idxmax()\n",
    "bargain_wine = reviews.loc[bargain_idx, 'title']\n",
    "\n",
    "# Check your answer\n",
    "q5.check()"
   ]
  },
  {
   "cell_type": "code",
   "execution_count": 11,
   "id": "304bcf96",
   "metadata": {
    "execution": {
     "iopub.execute_input": "2022-01-29T14:15:52.564047Z",
     "iopub.status.busy": "2022-01-29T14:15:52.563404Z",
     "iopub.status.idle": "2022-01-29T14:15:52.566040Z",
     "shell.execute_reply": "2022-01-29T14:15:52.566533Z",
     "shell.execute_reply.started": "2022-01-29T14:14:04.489861Z"
    },
    "papermill": {
     "duration": 0.029551,
     "end_time": "2022-01-29T14:15:52.566686",
     "exception": false,
     "start_time": "2022-01-29T14:15:52.537135",
     "status": "completed"
    },
    "tags": []
   },
   "outputs": [],
   "source": [
    "#q5.hint()\n",
    "#q5.solution()"
   ]
  },
  {
   "cell_type": "markdown",
   "id": "2d81b5f0",
   "metadata": {
    "papermill": {
     "duration": 0.025013,
     "end_time": "2022-01-29T14:15:52.615622",
     "exception": false,
     "start_time": "2022-01-29T14:15:52.590609",
     "status": "completed"
    },
    "tags": []
   },
   "source": [
    "## 6.\n",
    "There are only so many words you can use when describing a bottle of wine. Is a wine more likely to be \"tropical\" or \"fruity\"? Create a Series `descriptor_counts` counting how many times each of these two words appears in the `description` column in the dataset. (For simplicity, let's ignore the capitalized versions of these words.)"
   ]
  },
  {
   "cell_type": "code",
   "execution_count": 12,
   "id": "783ee416",
   "metadata": {
    "execution": {
     "iopub.execute_input": "2022-01-29T14:15:52.672053Z",
     "iopub.status.busy": "2022-01-29T14:15:52.671106Z",
     "iopub.status.idle": "2022-01-29T14:15:52.835476Z",
     "shell.execute_reply": "2022-01-29T14:15:52.834665Z",
     "shell.execute_reply.started": "2022-01-29T14:14:26.508367Z"
    },
    "papermill": {
     "duration": 0.194358,
     "end_time": "2022-01-29T14:15:52.835673",
     "exception": false,
     "start_time": "2022-01-29T14:15:52.641315",
     "status": "completed"
    },
    "tags": []
   },
   "outputs": [
    {
     "data": {
      "application/javascript": [
       "parent.postMessage({\"jupyterEvent\": \"custom.exercise_interaction\", \"data\": {\"outcomeType\": 1, \"valueTowardsCompletion\": 0.14285714285714285, \"interactionType\": 1, \"questionType\": 1, \"questionId\": \"6_DescriptorCounts\", \"learnToolsVersion\": \"0.3.4\", \"failureMessage\": \"\", \"exceptionClass\": \"\", \"trace\": \"\"}}, \"*\")"
      ],
      "text/plain": [
       "<IPython.core.display.Javascript object>"
      ]
     },
     "metadata": {},
     "output_type": "display_data"
    },
    {
     "data": {
      "text/markdown": [
       "<span style=\"color:#33cc33\">Correct</span>"
      ],
      "text/plain": [
       "Correct"
      ]
     },
     "metadata": {},
     "output_type": "display_data"
    }
   ],
   "source": [
    "n_trop = reviews.description.map(lambda desc: \"tropical\" in desc).sum()\n",
    "n_fruity = reviews.description.map(lambda desc: \"fruity\" in desc).sum()\n",
    "descriptor_counts = pd.Series([n_trop, n_fruity], index=['tropical', 'fruity'])\n",
    "\n",
    "# Check your answer\n",
    "q6.check()"
   ]
  },
  {
   "cell_type": "code",
   "execution_count": 13,
   "id": "dfc5dd98",
   "metadata": {
    "execution": {
     "iopub.execute_input": "2022-01-29T14:15:52.916779Z",
     "iopub.status.busy": "2022-01-29T14:15:52.915839Z",
     "iopub.status.idle": "2022-01-29T14:15:52.918527Z",
     "shell.execute_reply": "2022-01-29T14:15:52.919267Z",
     "shell.execute_reply.started": "2022-01-29T14:14:31.172620Z"
    },
    "papermill": {
     "duration": 0.044525,
     "end_time": "2022-01-29T14:15:52.919490",
     "exception": false,
     "start_time": "2022-01-29T14:15:52.874965",
     "status": "completed"
    },
    "tags": []
   },
   "outputs": [],
   "source": [
    "#q6.hint()\n",
    "#q6.solution()"
   ]
  },
  {
   "cell_type": "markdown",
   "id": "6e91f67b",
   "metadata": {
    "papermill": {
     "duration": 0.025209,
     "end_time": "2022-01-29T14:15:52.976616",
     "exception": false,
     "start_time": "2022-01-29T14:15:52.951407",
     "status": "completed"
    },
    "tags": []
   },
   "source": [
    "## 7.\n",
    "We'd like to host these wine reviews on our website, but a rating system ranging from 80 to 100 points is too hard to understand - we'd like to translate them into simple star ratings. A score of 95 or higher counts as 3 stars, a score of at least 85 but less than 95 is 2 stars. Any other score is 1 star.\n",
    "\n",
    "Also, the Canadian Vintners Association bought a lot of ads on the site, so any wines from Canada should automatically get 3 stars, regardless of points.\n",
    "\n",
    "Create a series `star_ratings` with the number of stars corresponding to each review in the dataset."
   ]
  },
  {
   "cell_type": "code",
   "execution_count": 14,
   "id": "11b0ad8b",
   "metadata": {
    "execution": {
     "iopub.execute_input": "2022-01-29T14:15:53.045460Z",
     "iopub.status.busy": "2022-01-29T14:15:53.044786Z",
     "iopub.status.idle": "2022-01-29T14:15:57.947679Z",
     "shell.execute_reply": "2022-01-29T14:15:57.947182Z",
     "shell.execute_reply.started": "2022-01-29T14:14:49.964227Z"
    },
    "papermill": {
     "duration": 4.94416,
     "end_time": "2022-01-29T14:15:57.947826",
     "exception": false,
     "start_time": "2022-01-29T14:15:53.003666",
     "status": "completed"
    },
    "tags": []
   },
   "outputs": [
    {
     "data": {
      "application/javascript": [
       "parent.postMessage({\"jupyterEvent\": \"custom.exercise_interaction\", \"data\": {\"outcomeType\": 1, \"valueTowardsCompletion\": 0.14285714285714285, \"interactionType\": 1, \"questionType\": 1, \"questionId\": \"7_StarRatings\", \"learnToolsVersion\": \"0.3.4\", \"failureMessage\": \"\", \"exceptionClass\": \"\", \"trace\": \"\"}}, \"*\")"
      ],
      "text/plain": [
       "<IPython.core.display.Javascript object>"
      ]
     },
     "metadata": {},
     "output_type": "display_data"
    },
    {
     "data": {
      "text/markdown": [
       "<span style=\"color:#33cc33\">Correct</span>"
      ],
      "text/plain": [
       "Correct"
      ]
     },
     "metadata": {},
     "output_type": "display_data"
    }
   ],
   "source": [
    "def stars(row):\n",
    "    if row.country == 'Canada':\n",
    "        return 3\n",
    "    elif row.points >= 95:\n",
    "        return 3\n",
    "    elif row.points >= 85:\n",
    "        return 2\n",
    "    else:\n",
    "        return 1\n",
    "\n",
    "star_ratings = reviews.apply(stars, axis='columns')\n",
    "# Check your answer\n",
    "q7.check()"
   ]
  },
  {
   "cell_type": "code",
   "execution_count": 15,
   "id": "cc795e8e",
   "metadata": {
    "execution": {
     "iopub.execute_input": "2022-01-29T14:15:58.006287Z",
     "iopub.status.busy": "2022-01-29T14:15:58.005619Z",
     "iopub.status.idle": "2022-01-29T14:15:58.007200Z",
     "shell.execute_reply": "2022-01-29T14:15:58.007785Z",
     "shell.execute_reply.started": "2022-01-29T14:14:58.390532Z"
    },
    "papermill": {
     "duration": 0.03252,
     "end_time": "2022-01-29T14:15:58.007965",
     "exception": false,
     "start_time": "2022-01-29T14:15:57.975445",
     "status": "completed"
    },
    "tags": []
   },
   "outputs": [],
   "source": [
    "#q7.hint()\n",
    "#q7.solution()"
   ]
  },
  {
   "cell_type": "markdown",
   "id": "38769a39",
   "metadata": {
    "papermill": {
     "duration": 0.025822,
     "end_time": "2022-01-29T14:15:58.059598",
     "exception": false,
     "start_time": "2022-01-29T14:15:58.033776",
     "status": "completed"
    },
    "tags": []
   },
   "source": [
    "# Keep going\n",
    "Continue to **[grouping and sorting](https://www.kaggle.com/residentmario/grouping-and-sorting)**."
   ]
  },
  {
   "cell_type": "markdown",
   "id": "569172c6",
   "metadata": {
    "papermill": {
     "duration": 0.025696,
     "end_time": "2022-01-29T14:15:58.111302",
     "exception": false,
     "start_time": "2022-01-29T14:15:58.085606",
     "status": "completed"
    },
    "tags": []
   },
   "source": [
    "---\n",
    "\n",
    "\n",
    "\n",
    "\n",
    "*Have questions or comments? Visit the [course discussion forum](https://www.kaggle.com/learn/pandas/discussion) to chat with other learners.*"
   ]
  }
 ],
 "metadata": {
  "kernelspec": {
   "display_name": "Python 3",
   "language": "python",
   "name": "python3"
  },
  "language_info": {
   "codemirror_mode": {
    "name": "ipython",
    "version": 3
   },
   "file_extension": ".py",
   "mimetype": "text/x-python",
   "name": "python",
   "nbconvert_exporter": "python",
   "pygments_lexer": "ipython3",
   "version": "3.7.12"
  },
  "papermill": {
   "default_parameters": {},
   "duration": 24.683153,
   "end_time": "2022-01-29T14:15:58.746186",
   "environment_variables": {},
   "exception": null,
   "input_path": "__notebook__.ipynb",
   "output_path": "__notebook__.ipynb",
   "parameters": {},
   "start_time": "2022-01-29T14:15:34.063033",
   "version": "2.3.3"
  }
 },
 "nbformat": 4,
 "nbformat_minor": 5
}
