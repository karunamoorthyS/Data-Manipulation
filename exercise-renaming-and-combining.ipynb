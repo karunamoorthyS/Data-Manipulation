{
 "cells": [
  {
   "cell_type": "markdown",
   "id": "f04d35da",
   "metadata": {
    "papermill": {
     "duration": 0.013279,
     "end_time": "2022-01-29T14:37:29.741021",
     "exception": false,
     "start_time": "2022-01-29T14:37:29.727742",
     "status": "completed"
    },
    "tags": []
   },
   "source": [
    "**This notebook is an exercise in the [Pandas](https://www.kaggle.com/learn/pandas) course.  You can reference the tutorial at [this link](https://www.kaggle.com/residentmario/renaming-and-combining).**\n",
    "\n",
    "---\n"
   ]
  },
  {
   "cell_type": "markdown",
   "id": "d206ba49",
   "metadata": {
    "papermill": {
     "duration": 0.011613,
     "end_time": "2022-01-29T14:37:29.765087",
     "exception": false,
     "start_time": "2022-01-29T14:37:29.753474",
     "status": "completed"
    },
    "tags": []
   },
   "source": [
    "# Introduction\n",
    "\n",
    "Run the following cell to load your data and some utility functions."
   ]
  },
  {
   "cell_type": "code",
   "execution_count": 1,
   "id": "99749fc7",
   "metadata": {
    "execution": {
     "iopub.execute_input": "2022-01-29T14:37:29.792836Z",
     "iopub.status.busy": "2022-01-29T14:37:29.791811Z",
     "iopub.status.idle": "2022-01-29T14:37:33.603272Z",
     "shell.execute_reply": "2022-01-29T14:37:33.603847Z",
     "shell.execute_reply.started": "2022-01-29T14:34:52.630410Z"
    },
    "papermill": {
     "duration": 3.827197,
     "end_time": "2022-01-29T14:37:33.604139",
     "exception": false,
     "start_time": "2022-01-29T14:37:29.776942",
     "status": "completed"
    },
    "tags": []
   },
   "outputs": [
    {
     "name": "stdout",
     "output_type": "stream",
     "text": [
      "Setup complete.\n"
     ]
    }
   ],
   "source": [
    "import pandas as pd\n",
    "\n",
    "reviews = pd.read_csv(\"../input/wine-reviews/winemag-data-130k-v2.csv\", index_col=0)\n",
    "\n",
    "from learntools.core import binder; binder.bind(globals())\n",
    "from learntools.pandas.renaming_and_combining import *\n",
    "print(\"Setup complete.\")"
   ]
  },
  {
   "cell_type": "markdown",
   "id": "cc2806bf",
   "metadata": {
    "papermill": {
     "duration": 0.01211,
     "end_time": "2022-01-29T14:37:33.630552",
     "exception": false,
     "start_time": "2022-01-29T14:37:33.618442",
     "status": "completed"
    },
    "tags": []
   },
   "source": [
    "# Exercises\n",
    "\n",
    "View the first several lines of your data by running the cell below:"
   ]
  },
  {
   "cell_type": "code",
   "execution_count": 2,
   "id": "a11774de",
   "metadata": {
    "execution": {
     "iopub.execute_input": "2022-01-29T14:37:33.658765Z",
     "iopub.status.busy": "2022-01-29T14:37:33.658137Z",
     "iopub.status.idle": "2022-01-29T14:37:33.679199Z",
     "shell.execute_reply": "2022-01-29T14:37:33.679663Z"
    },
    "papermill": {
     "duration": 0.036767,
     "end_time": "2022-01-29T14:37:33.679831",
     "exception": false,
     "start_time": "2022-01-29T14:37:33.643064",
     "status": "completed"
    },
    "tags": []
   },
   "outputs": [
    {
     "data": {
      "text/html": [
       "<div>\n",
       "<style scoped>\n",
       "    .dataframe tbody tr th:only-of-type {\n",
       "        vertical-align: middle;\n",
       "    }\n",
       "\n",
       "    .dataframe tbody tr th {\n",
       "        vertical-align: top;\n",
       "    }\n",
       "\n",
       "    .dataframe thead th {\n",
       "        text-align: right;\n",
       "    }\n",
       "</style>\n",
       "<table border=\"1\" class=\"dataframe\">\n",
       "  <thead>\n",
       "    <tr style=\"text-align: right;\">\n",
       "      <th></th>\n",
       "      <th>country</th>\n",
       "      <th>description</th>\n",
       "      <th>designation</th>\n",
       "      <th>points</th>\n",
       "      <th>price</th>\n",
       "      <th>province</th>\n",
       "      <th>region_1</th>\n",
       "      <th>region_2</th>\n",
       "      <th>taster_name</th>\n",
       "      <th>taster_twitter_handle</th>\n",
       "      <th>title</th>\n",
       "      <th>variety</th>\n",
       "      <th>winery</th>\n",
       "    </tr>\n",
       "  </thead>\n",
       "  <tbody>\n",
       "    <tr>\n",
       "      <th>0</th>\n",
       "      <td>Italy</td>\n",
       "      <td>Aromas include tropical fruit, broom, brimston...</td>\n",
       "      <td>Vulkà Bianco</td>\n",
       "      <td>87</td>\n",
       "      <td>NaN</td>\n",
       "      <td>Sicily &amp; Sardinia</td>\n",
       "      <td>Etna</td>\n",
       "      <td>NaN</td>\n",
       "      <td>Kerin O’Keefe</td>\n",
       "      <td>@kerinokeefe</td>\n",
       "      <td>Nicosia 2013 Vulkà Bianco  (Etna)</td>\n",
       "      <td>White Blend</td>\n",
       "      <td>Nicosia</td>\n",
       "    </tr>\n",
       "    <tr>\n",
       "      <th>1</th>\n",
       "      <td>Portugal</td>\n",
       "      <td>This is ripe and fruity, a wine that is smooth...</td>\n",
       "      <td>Avidagos</td>\n",
       "      <td>87</td>\n",
       "      <td>15.0</td>\n",
       "      <td>Douro</td>\n",
       "      <td>NaN</td>\n",
       "      <td>NaN</td>\n",
       "      <td>Roger Voss</td>\n",
       "      <td>@vossroger</td>\n",
       "      <td>Quinta dos Avidagos 2011 Avidagos Red (Douro)</td>\n",
       "      <td>Portuguese Red</td>\n",
       "      <td>Quinta dos Avidagos</td>\n",
       "    </tr>\n",
       "    <tr>\n",
       "      <th>2</th>\n",
       "      <td>US</td>\n",
       "      <td>Tart and snappy, the flavors of lime flesh and...</td>\n",
       "      <td>NaN</td>\n",
       "      <td>87</td>\n",
       "      <td>14.0</td>\n",
       "      <td>Oregon</td>\n",
       "      <td>Willamette Valley</td>\n",
       "      <td>Willamette Valley</td>\n",
       "      <td>Paul Gregutt</td>\n",
       "      <td>@paulgwine</td>\n",
       "      <td>Rainstorm 2013 Pinot Gris (Willamette Valley)</td>\n",
       "      <td>Pinot Gris</td>\n",
       "      <td>Rainstorm</td>\n",
       "    </tr>\n",
       "    <tr>\n",
       "      <th>3</th>\n",
       "      <td>US</td>\n",
       "      <td>Pineapple rind, lemon pith and orange blossom ...</td>\n",
       "      <td>Reserve Late Harvest</td>\n",
       "      <td>87</td>\n",
       "      <td>13.0</td>\n",
       "      <td>Michigan</td>\n",
       "      <td>Lake Michigan Shore</td>\n",
       "      <td>NaN</td>\n",
       "      <td>Alexander Peartree</td>\n",
       "      <td>NaN</td>\n",
       "      <td>St. Julian 2013 Reserve Late Harvest Riesling ...</td>\n",
       "      <td>Riesling</td>\n",
       "      <td>St. Julian</td>\n",
       "    </tr>\n",
       "    <tr>\n",
       "      <th>4</th>\n",
       "      <td>US</td>\n",
       "      <td>Much like the regular bottling from 2012, this...</td>\n",
       "      <td>Vintner's Reserve Wild Child Block</td>\n",
       "      <td>87</td>\n",
       "      <td>65.0</td>\n",
       "      <td>Oregon</td>\n",
       "      <td>Willamette Valley</td>\n",
       "      <td>Willamette Valley</td>\n",
       "      <td>Paul Gregutt</td>\n",
       "      <td>@paulgwine</td>\n",
       "      <td>Sweet Cheeks 2012 Vintner's Reserve Wild Child...</td>\n",
       "      <td>Pinot Noir</td>\n",
       "      <td>Sweet Cheeks</td>\n",
       "    </tr>\n",
       "  </tbody>\n",
       "</table>\n",
       "</div>"
      ],
      "text/plain": [
       "    country                                        description  \\\n",
       "0     Italy  Aromas include tropical fruit, broom, brimston...   \n",
       "1  Portugal  This is ripe and fruity, a wine that is smooth...   \n",
       "2        US  Tart and snappy, the flavors of lime flesh and...   \n",
       "3        US  Pineapple rind, lemon pith and orange blossom ...   \n",
       "4        US  Much like the regular bottling from 2012, this...   \n",
       "\n",
       "                          designation  points  price           province  \\\n",
       "0                        Vulkà Bianco      87    NaN  Sicily & Sardinia   \n",
       "1                            Avidagos      87   15.0              Douro   \n",
       "2                                 NaN      87   14.0             Oregon   \n",
       "3                Reserve Late Harvest      87   13.0           Michigan   \n",
       "4  Vintner's Reserve Wild Child Block      87   65.0             Oregon   \n",
       "\n",
       "              region_1           region_2         taster_name  \\\n",
       "0                 Etna                NaN       Kerin O’Keefe   \n",
       "1                  NaN                NaN          Roger Voss   \n",
       "2    Willamette Valley  Willamette Valley        Paul Gregutt   \n",
       "3  Lake Michigan Shore                NaN  Alexander Peartree   \n",
       "4    Willamette Valley  Willamette Valley        Paul Gregutt   \n",
       "\n",
       "  taster_twitter_handle                                              title  \\\n",
       "0          @kerinokeefe                  Nicosia 2013 Vulkà Bianco  (Etna)   \n",
       "1            @vossroger      Quinta dos Avidagos 2011 Avidagos Red (Douro)   \n",
       "2           @paulgwine       Rainstorm 2013 Pinot Gris (Willamette Valley)   \n",
       "3                   NaN  St. Julian 2013 Reserve Late Harvest Riesling ...   \n",
       "4           @paulgwine   Sweet Cheeks 2012 Vintner's Reserve Wild Child...   \n",
       "\n",
       "          variety               winery  \n",
       "0     White Blend              Nicosia  \n",
       "1  Portuguese Red  Quinta dos Avidagos  \n",
       "2      Pinot Gris            Rainstorm  \n",
       "3        Riesling           St. Julian  \n",
       "4      Pinot Noir         Sweet Cheeks  "
      ]
     },
     "execution_count": 2,
     "metadata": {},
     "output_type": "execute_result"
    }
   ],
   "source": [
    "reviews.head()"
   ]
  },
  {
   "cell_type": "markdown",
   "id": "53080bde",
   "metadata": {
    "papermill": {
     "duration": 0.012682,
     "end_time": "2022-01-29T14:37:33.705274",
     "exception": false,
     "start_time": "2022-01-29T14:37:33.692592",
     "status": "completed"
    },
    "tags": []
   },
   "source": [
    "## 1.\n",
    "`region_1` and `region_2` are pretty uninformative names for locale columns in the dataset. Create a copy of `reviews` with these columns renamed to `region` and `locale`, respectively."
   ]
  },
  {
   "cell_type": "code",
   "execution_count": 3,
   "id": "ac391257",
   "metadata": {
    "execution": {
     "iopub.execute_input": "2022-01-29T14:37:33.734455Z",
     "iopub.status.busy": "2022-01-29T14:37:33.733841Z",
     "iopub.status.idle": "2022-01-29T14:37:33.763721Z",
     "shell.execute_reply": "2022-01-29T14:37:33.764191Z",
     "shell.execute_reply.started": "2022-01-29T14:35:25.572655Z"
    },
    "papermill": {
     "duration": 0.046321,
     "end_time": "2022-01-29T14:37:33.764346",
     "exception": false,
     "start_time": "2022-01-29T14:37:33.718025",
     "status": "completed"
    },
    "tags": []
   },
   "outputs": [
    {
     "data": {
      "application/javascript": [
       "parent.postMessage({\"jupyterEvent\": \"custom.exercise_interaction\", \"data\": {\"outcomeType\": 1, \"valueTowardsCompletion\": 0.25, \"interactionType\": 1, \"questionType\": 1, \"questionId\": \"1_RenameCols\", \"learnToolsVersion\": \"0.3.4\", \"failureMessage\": \"\", \"exceptionClass\": \"\", \"trace\": \"\"}}, \"*\")"
      ],
      "text/plain": [
       "<IPython.core.display.Javascript object>"
      ]
     },
     "metadata": {},
     "output_type": "display_data"
    },
    {
     "data": {
      "text/markdown": [
       "<span style=\"color:#33cc33\">Correct</span>"
      ],
      "text/plain": [
       "Correct"
      ]
     },
     "metadata": {},
     "output_type": "display_data"
    }
   ],
   "source": [
    "# Your code here\n",
    "renamed = reviews.rename(columns=dict(region_1='region', region_2='locale'))\n",
    "\n",
    "# Check your answer\n",
    "q1.check()"
   ]
  },
  {
   "cell_type": "code",
   "execution_count": 4,
   "id": "326bfa42",
   "metadata": {
    "execution": {
     "iopub.execute_input": "2022-01-29T14:37:33.794806Z",
     "iopub.status.busy": "2022-01-29T14:37:33.794209Z",
     "iopub.status.idle": "2022-01-29T14:37:33.796995Z",
     "shell.execute_reply": "2022-01-29T14:37:33.797555Z",
     "shell.execute_reply.started": "2022-01-29T14:35:15.572877Z"
    },
    "papermill": {
     "duration": 0.019702,
     "end_time": "2022-01-29T14:37:33.797730",
     "exception": false,
     "start_time": "2022-01-29T14:37:33.778028",
     "status": "completed"
    },
    "tags": []
   },
   "outputs": [],
   "source": [
    "#q1.hint()\n",
    "#q1.solution()"
   ]
  },
  {
   "cell_type": "markdown",
   "id": "a4d43535",
   "metadata": {
    "papermill": {
     "duration": 0.013209,
     "end_time": "2022-01-29T14:37:33.825024",
     "exception": false,
     "start_time": "2022-01-29T14:37:33.811815",
     "status": "completed"
    },
    "tags": []
   },
   "source": [
    "## 2.\n",
    "Set the index name in the dataset to `wines`."
   ]
  },
  {
   "cell_type": "code",
   "execution_count": 5,
   "id": "45e2744d",
   "metadata": {
    "execution": {
     "iopub.execute_input": "2022-01-29T14:37:33.855285Z",
     "iopub.status.busy": "2022-01-29T14:37:33.854724Z",
     "iopub.status.idle": "2022-01-29T14:37:33.883636Z",
     "shell.execute_reply": "2022-01-29T14:37:33.884217Z",
     "shell.execute_reply.started": "2022-01-29T14:35:40.725034Z"
    },
    "papermill": {
     "duration": 0.045543,
     "end_time": "2022-01-29T14:37:33.884379",
     "exception": false,
     "start_time": "2022-01-29T14:37:33.838836",
     "status": "completed"
    },
    "tags": []
   },
   "outputs": [
    {
     "data": {
      "application/javascript": [
       "parent.postMessage({\"jupyterEvent\": \"custom.exercise_interaction\", \"data\": {\"outcomeType\": 1, \"valueTowardsCompletion\": 0.25, \"interactionType\": 1, \"questionType\": 1, \"questionId\": \"2_RenameIndex\", \"learnToolsVersion\": \"0.3.4\", \"failureMessage\": \"\", \"exceptionClass\": \"\", \"trace\": \"\"}}, \"*\")"
      ],
      "text/plain": [
       "<IPython.core.display.Javascript object>"
      ]
     },
     "metadata": {},
     "output_type": "display_data"
    },
    {
     "data": {
      "text/markdown": [
       "<span style=\"color:#33cc33\">Correct</span>"
      ],
      "text/plain": [
       "Correct"
      ]
     },
     "metadata": {},
     "output_type": "display_data"
    }
   ],
   "source": [
    "reindexed = reviews.rename_axis('wines', axis='rows')\n",
    "\n",
    "# Check your answer\n",
    "q2.check()"
   ]
  },
  {
   "cell_type": "code",
   "execution_count": 6,
   "id": "2cbb8136",
   "metadata": {
    "execution": {
     "iopub.execute_input": "2022-01-29T14:37:33.915859Z",
     "iopub.status.busy": "2022-01-29T14:37:33.915245Z",
     "iopub.status.idle": "2022-01-29T14:37:33.917648Z",
     "shell.execute_reply": "2022-01-29T14:37:33.918226Z",
     "shell.execute_reply.started": "2022-01-29T14:35:44.524540Z"
    },
    "papermill": {
     "duration": 0.019712,
     "end_time": "2022-01-29T14:37:33.918392",
     "exception": false,
     "start_time": "2022-01-29T14:37:33.898680",
     "status": "completed"
    },
    "tags": []
   },
   "outputs": [],
   "source": [
    "#q2.hint()\n",
    "#q2.solution()"
   ]
  },
  {
   "cell_type": "markdown",
   "id": "33ff7e17",
   "metadata": {
    "papermill": {
     "duration": 0.014519,
     "end_time": "2022-01-29T14:37:33.947318",
     "exception": false,
     "start_time": "2022-01-29T14:37:33.932799",
     "status": "completed"
    },
    "tags": []
   },
   "source": [
    "## 3.\n",
    "The [Things on Reddit](https://www.kaggle.com/residentmario/things-on-reddit/data) dataset includes product links from a selection of top-ranked forums (\"subreddits\") on reddit.com. Run the cell below to load a dataframe of products mentioned on the */r/gaming* subreddit and another dataframe for products mentioned on the *r//movies* subreddit."
   ]
  },
  {
   "cell_type": "code",
   "execution_count": 7,
   "id": "f616af2a",
   "metadata": {
    "execution": {
     "iopub.execute_input": "2022-01-29T14:37:33.979763Z",
     "iopub.status.busy": "2022-01-29T14:37:33.979132Z",
     "iopub.status.idle": "2022-01-29T14:37:33.992011Z",
     "shell.execute_reply": "2022-01-29T14:37:33.992624Z",
     "shell.execute_reply.started": "2022-01-29T14:36:15.692648Z"
    },
    "papermill": {
     "duration": 0.030663,
     "end_time": "2022-01-29T14:37:33.992798",
     "exception": false,
     "start_time": "2022-01-29T14:37:33.962135",
     "status": "completed"
    },
    "tags": []
   },
   "outputs": [],
   "source": [
    "gaming_products = pd.read_csv(\"../input/things-on-reddit/top-things/top-things/reddits/g/gaming.csv\")\n",
    "gaming_products['subreddit'] = \"r/gaming\"\n",
    "movie_products = pd.read_csv(\"../input/things-on-reddit/top-things/top-things/reddits/m/movies.csv\")\n",
    "movie_products['subreddit'] = \"r/movies\""
   ]
  },
  {
   "cell_type": "markdown",
   "id": "3cd4cb66",
   "metadata": {
    "papermill": {
     "duration": 0.013825,
     "end_time": "2022-01-29T14:37:34.021085",
     "exception": false,
     "start_time": "2022-01-29T14:37:34.007260",
     "status": "completed"
    },
    "tags": []
   },
   "source": [
    "Create a `DataFrame` of products mentioned on *either* subreddit."
   ]
  },
  {
   "cell_type": "code",
   "execution_count": 8,
   "id": "bd880b98",
   "metadata": {
    "execution": {
     "iopub.execute_input": "2022-01-29T14:37:34.057774Z",
     "iopub.status.busy": "2022-01-29T14:37:34.057094Z",
     "iopub.status.idle": "2022-01-29T14:37:34.062978Z",
     "shell.execute_reply": "2022-01-29T14:37:34.063549Z",
     "shell.execute_reply.started": "2022-01-29T14:36:21.787352Z"
    },
    "papermill": {
     "duration": 0.028163,
     "end_time": "2022-01-29T14:37:34.063731",
     "exception": false,
     "start_time": "2022-01-29T14:37:34.035568",
     "status": "completed"
    },
    "tags": []
   },
   "outputs": [
    {
     "data": {
      "application/javascript": [
       "parent.postMessage({\"jupyterEvent\": \"custom.exercise_interaction\", \"data\": {\"outcomeType\": 1, \"valueTowardsCompletion\": 0.25, \"interactionType\": 1, \"questionType\": 2, \"questionId\": \"3_ConcatReddit\", \"learnToolsVersion\": \"0.3.4\", \"failureMessage\": \"\", \"exceptionClass\": \"\", \"trace\": \"\"}}, \"*\")"
      ],
      "text/plain": [
       "<IPython.core.display.Javascript object>"
      ]
     },
     "metadata": {},
     "output_type": "display_data"
    },
    {
     "data": {
      "text/markdown": [
       "<span style=\"color:#33cc33\">Correct</span>"
      ],
      "text/plain": [
       "Correct"
      ]
     },
     "metadata": {},
     "output_type": "display_data"
    }
   ],
   "source": [
    "combined_products = pd.concat([gaming_products, movie_products])\n",
    "\n",
    "# Check your answer\n",
    "q3.check()"
   ]
  },
  {
   "cell_type": "code",
   "execution_count": 9,
   "id": "07755d57",
   "metadata": {
    "execution": {
     "iopub.execute_input": "2022-01-29T14:37:34.096872Z",
     "iopub.status.busy": "2022-01-29T14:37:34.096246Z",
     "iopub.status.idle": "2022-01-29T14:37:34.098653Z",
     "shell.execute_reply": "2022-01-29T14:37:34.099171Z",
     "shell.execute_reply.started": "2022-01-29T14:36:29.239607Z"
    },
    "papermill": {
     "duration": 0.020524,
     "end_time": "2022-01-29T14:37:34.099337",
     "exception": false,
     "start_time": "2022-01-29T14:37:34.078813",
     "status": "completed"
    },
    "tags": []
   },
   "outputs": [],
   "source": [
    "#q3.hint()\n",
    "#q3.solution()"
   ]
  },
  {
   "cell_type": "markdown",
   "id": "cb2558fe",
   "metadata": {
    "papermill": {
     "duration": 0.014692,
     "end_time": "2022-01-29T14:37:34.129220",
     "exception": false,
     "start_time": "2022-01-29T14:37:34.114528",
     "status": "completed"
    },
    "tags": []
   },
   "source": [
    "## 4.\n",
    "The [Powerlifting Database](https://www.kaggle.com/open-powerlifting/powerlifting-database) dataset on Kaggle includes one CSV table for powerlifting meets and a separate one for powerlifting competitors. Run the cell below to load these datasets into dataframes:"
   ]
  },
  {
   "cell_type": "code",
   "execution_count": 10,
   "id": "2e0c2690",
   "metadata": {
    "execution": {
     "iopub.execute_input": "2022-01-29T14:37:34.164242Z",
     "iopub.status.busy": "2022-01-29T14:37:34.163554Z",
     "iopub.status.idle": "2022-01-29T14:37:34.851596Z",
     "shell.execute_reply": "2022-01-29T14:37:34.852061Z",
     "shell.execute_reply.started": "2022-01-29T14:36:32.407604Z"
    },
    "papermill": {
     "duration": 0.707504,
     "end_time": "2022-01-29T14:37:34.852263",
     "exception": false,
     "start_time": "2022-01-29T14:37:34.144759",
     "status": "completed"
    },
    "tags": []
   },
   "outputs": [],
   "source": [
    "powerlifting_meets = pd.read_csv(\"../input/powerlifting-database/meets.csv\")\n",
    "powerlifting_competitors = pd.read_csv(\"../input/powerlifting-database/openpowerlifting.csv\")"
   ]
  },
  {
   "cell_type": "markdown",
   "id": "7c48df69",
   "metadata": {
    "papermill": {
     "duration": 0.014703,
     "end_time": "2022-01-29T14:37:34.883233",
     "exception": false,
     "start_time": "2022-01-29T14:37:34.868530",
     "status": "completed"
    },
    "tags": []
   },
   "source": [
    "Both tables include references to a `MeetID`, a unique key for each meet (competition) included in the database. Using this, generate a dataset combining the two tables into one."
   ]
  },
  {
   "cell_type": "code",
   "execution_count": 11,
   "id": "3b71c969",
   "metadata": {
    "execution": {
     "iopub.execute_input": "2022-01-29T14:37:34.917890Z",
     "iopub.status.busy": "2022-01-29T14:37:34.917244Z",
     "iopub.status.idle": "2022-01-29T14:37:35.719445Z",
     "shell.execute_reply": "2022-01-29T14:37:35.719892Z",
     "shell.execute_reply.started": "2022-01-29T14:36:47.303745Z"
    },
    "papermill": {
     "duration": 0.820806,
     "end_time": "2022-01-29T14:37:35.720051",
     "exception": false,
     "start_time": "2022-01-29T14:37:34.899245",
     "status": "completed"
    },
    "tags": []
   },
   "outputs": [
    {
     "data": {
      "application/javascript": [
       "parent.postMessage({\"jupyterEvent\": \"custom.exercise_interaction\", \"data\": {\"outcomeType\": 1, \"valueTowardsCompletion\": 0.25, \"interactionType\": 1, \"questionType\": 2, \"questionId\": \"4_JoinLifting\", \"learnToolsVersion\": \"0.3.4\", \"failureMessage\": \"\", \"exceptionClass\": \"\", \"trace\": \"\"}}, \"*\")"
      ],
      "text/plain": [
       "<IPython.core.display.Javascript object>"
      ]
     },
     "metadata": {},
     "output_type": "display_data"
    },
    {
     "data": {
      "text/markdown": [
       "<span style=\"color:#33cc33\">Correct</span>"
      ],
      "text/plain": [
       "Correct"
      ]
     },
     "metadata": {},
     "output_type": "display_data"
    }
   ],
   "source": [
    "powerlifting_combined = powerlifting_meets.set_index(\"MeetID\").join(powerlifting_competitors.set_index(\"MeetID\"))\n",
    "\n",
    "# Check your answer\n",
    "q4.check()"
   ]
  },
  {
   "cell_type": "code",
   "execution_count": 12,
   "id": "8b28112d",
   "metadata": {
    "execution": {
     "iopub.execute_input": "2022-01-29T14:37:35.755753Z",
     "iopub.status.busy": "2022-01-29T14:37:35.755160Z",
     "iopub.status.idle": "2022-01-29T14:37:35.757093Z",
     "shell.execute_reply": "2022-01-29T14:37:35.757543Z",
     "shell.execute_reply.started": "2022-01-29T14:36:52.274872Z"
    },
    "papermill": {
     "duration": 0.021906,
     "end_time": "2022-01-29T14:37:35.757701",
     "exception": false,
     "start_time": "2022-01-29T14:37:35.735795",
     "status": "completed"
    },
    "tags": []
   },
   "outputs": [],
   "source": [
    "#q4.hint()\n",
    "#q4.solution()"
   ]
  },
  {
   "cell_type": "markdown",
   "id": "89f5d3f7",
   "metadata": {
    "papermill": {
     "duration": 0.015223,
     "end_time": "2022-01-29T14:37:35.788712",
     "exception": false,
     "start_time": "2022-01-29T14:37:35.773489",
     "status": "completed"
    },
    "tags": []
   },
   "source": [
    "# Congratulations!\n",
    "\n",
    "You've finished the Pandas micro-course.  Many data scientists feel efficiency with Pandas is the most useful and practical skill they have, because it allows you to progress quickly in any project you have.\n",
    "\n",
    "If you'd like to apply your new skills to examining geospatial data, you're encouraged to check out our **[Geospatial Analysis](https://www.kaggle.com/learn/geospatial-analysis)** micro-course.\n",
    "\n",
    "You can also take advantage of your Pandas skills by entering a **[Kaggle Competition](https://www.kaggle.com/competitions)** or by answering a question you find interesting using **[Kaggle Datasets](https://www.kaggle.com/datasets)**."
   ]
  },
  {
   "cell_type": "markdown",
   "id": "d0889bc0",
   "metadata": {
    "papermill": {
     "duration": 0.015671,
     "end_time": "2022-01-29T14:37:35.820089",
     "exception": false,
     "start_time": "2022-01-29T14:37:35.804418",
     "status": "completed"
    },
    "tags": []
   },
   "source": [
    "---\n",
    "\n",
    "\n",
    "\n",
    "\n",
    "*Have questions or comments? Visit the [course discussion forum](https://www.kaggle.com/learn/pandas/discussion) to chat with other learners.*"
   ]
  }
 ],
 "metadata": {
  "kernelspec": {
   "display_name": "Python 3",
   "language": "python",
   "name": "python3"
  },
  "language_info": {
   "codemirror_mode": {
    "name": "ipython",
    "version": 3
   },
   "file_extension": ".py",
   "mimetype": "text/x-python",
   "name": "python",
   "nbconvert_exporter": "python",
   "pygments_lexer": "ipython3",
   "version": "3.7.12"
  },
  "papermill": {
   "default_parameters": {},
   "duration": 15.44776,
   "end_time": "2022-01-29T14:37:36.546731",
   "environment_variables": {},
   "exception": null,
   "input_path": "__notebook__.ipynb",
   "output_path": "__notebook__.ipynb",
   "parameters": {},
   "start_time": "2022-01-29T14:37:21.098971",
   "version": "2.3.3"
  }
 },
 "nbformat": 4,
 "nbformat_minor": 5
}
