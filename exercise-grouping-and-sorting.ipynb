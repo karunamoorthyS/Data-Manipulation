{
 "cells": [
  {
   "cell_type": "markdown",
   "id": "125e36b6",
   "metadata": {
    "papermill": {
     "duration": 0.029865,
     "end_time": "2022-01-29T14:21:24.537212",
     "exception": false,
     "start_time": "2022-01-29T14:21:24.507347",
     "status": "completed"
    },
    "tags": []
   },
   "source": [
    "**This notebook is an exercise in the [Pandas](https://www.kaggle.com/learn/pandas) course.  You can reference the tutorial at [this link](https://www.kaggle.com/residentmario/grouping-and-sorting).**\n",
    "\n",
    "---\n"
   ]
  },
  {
   "cell_type": "markdown",
   "id": "4b823008",
   "metadata": {
    "papermill": {
     "duration": 0.02848,
     "end_time": "2022-01-29T14:21:24.595745",
     "exception": false,
     "start_time": "2022-01-29T14:21:24.567265",
     "status": "completed"
    },
    "tags": []
   },
   "source": [
    "# Introduction\n",
    "\n",
    "In these exercises we'll apply groupwise analysis to our dataset.\n",
    "\n",
    "Run the code cell below to load the data before running the exercises."
   ]
  },
  {
   "cell_type": "code",
   "execution_count": 1,
   "id": "7ef2aee6",
   "metadata": {
    "execution": {
     "iopub.execute_input": "2022-01-29T14:21:24.664916Z",
     "iopub.status.busy": "2022-01-29T14:21:24.664033Z",
     "iopub.status.idle": "2022-01-29T14:21:27.636185Z",
     "shell.execute_reply": "2022-01-29T14:21:27.636876Z",
     "shell.execute_reply.started": "2022-01-29T14:18:24.887967Z"
    },
    "papermill": {
     "duration": 3.012697,
     "end_time": "2022-01-29T14:21:27.637179",
     "exception": false,
     "start_time": "2022-01-29T14:21:24.624482",
     "status": "completed"
    },
    "tags": []
   },
   "outputs": [
    {
     "name": "stdout",
     "output_type": "stream",
     "text": [
      "Setup complete.\n"
     ]
    }
   ],
   "source": [
    "import pandas as pd\n",
    "\n",
    "reviews = pd.read_csv(\"../input/wine-reviews/winemag-data-130k-v2.csv\", index_col=0)\n",
    "#pd.set_option(\"display.max_rows\", 5)\n",
    "\n",
    "from learntools.core import binder; binder.bind(globals())\n",
    "from learntools.pandas.grouping_and_sorting import *\n",
    "print(\"Setup complete.\")"
   ]
  },
  {
   "cell_type": "markdown",
   "id": "97cb8c6e",
   "metadata": {
    "papermill": {
     "duration": 0.017191,
     "end_time": "2022-01-29T14:21:27.674032",
     "exception": false,
     "start_time": "2022-01-29T14:21:27.656841",
     "status": "completed"
    },
    "tags": []
   },
   "source": [
    "# Exercises"
   ]
  },
  {
   "cell_type": "markdown",
   "id": "c21f2bdb",
   "metadata": {
    "papermill": {
     "duration": 0.017094,
     "end_time": "2022-01-29T14:21:27.709840",
     "exception": false,
     "start_time": "2022-01-29T14:21:27.692746",
     "status": "completed"
    },
    "tags": []
   },
   "source": [
    "## 1.\n",
    "Who are the most common wine reviewers in the dataset? Create a `Series` whose index is the `taster_twitter_handle` category from the dataset, and whose values count how many reviews each person wrote."
   ]
  },
  {
   "cell_type": "code",
   "execution_count": 2,
   "id": "6c49b8c2",
   "metadata": {
    "execution": {
     "iopub.execute_input": "2022-01-29T14:21:27.765740Z",
     "iopub.status.busy": "2022-01-29T14:21:27.764740Z",
     "iopub.status.idle": "2022-01-29T14:21:27.776623Z",
     "shell.execute_reply": "2022-01-29T14:21:27.777094Z",
     "shell.execute_reply.started": "2022-01-29T14:19:09.934315Z"
    },
    "papermill": {
     "duration": 0.049958,
     "end_time": "2022-01-29T14:21:27.777259",
     "exception": false,
     "start_time": "2022-01-29T14:21:27.727301",
     "status": "completed"
    },
    "tags": []
   },
   "outputs": [
    {
     "data": {
      "application/javascript": [
       "parent.postMessage({\"jupyterEvent\": \"custom.exercise_interaction\", \"data\": {\"outcomeType\": 1, \"valueTowardsCompletion\": 0.16666666666666666, \"interactionType\": 1, \"questionType\": 1, \"questionId\": \"1_ReviewsWritten\", \"learnToolsVersion\": \"0.3.4\", \"failureMessage\": \"\", \"exceptionClass\": \"\", \"trace\": \"\"}}, \"*\")"
      ],
      "text/plain": [
       "<IPython.core.display.Javascript object>"
      ]
     },
     "metadata": {},
     "output_type": "display_data"
    },
    {
     "data": {
      "text/markdown": [
       "<span style=\"color:#33cc33\">Correct:</span> \n",
       "\n",
       "\n",
       "```python\n",
       "reviews_written = reviews.groupby('taster_twitter_handle').size()\n",
       "```\n",
       "or\n",
       "```python\n",
       "reviews_written = reviews.groupby('taster_twitter_handle').taster_twitter_handle.count()\n",
       "```\n"
      ],
      "text/plain": [
       "Correct: \n",
       "\n",
       "\n",
       "```python\n",
       "reviews_written = reviews.groupby('taster_twitter_handle').size()\n",
       "```\n",
       "or\n",
       "```python\n",
       "reviews_written = reviews.groupby('taster_twitter_handle').taster_twitter_handle.count()\n",
       "```"
      ]
     },
     "metadata": {},
     "output_type": "display_data"
    }
   ],
   "source": [
    "# Your code here\n",
    "reviews_written = reviews.groupby('taster_twitter_handle').size()\n",
    "\n",
    "# Check your answer\n",
    "q1.check()"
   ]
  },
  {
   "cell_type": "code",
   "execution_count": 3,
   "id": "6916ad52",
   "metadata": {
    "execution": {
     "iopub.execute_input": "2022-01-29T14:21:27.818719Z",
     "iopub.status.busy": "2022-01-29T14:21:27.817792Z",
     "iopub.status.idle": "2022-01-29T14:21:27.820906Z",
     "shell.execute_reply": "2022-01-29T14:21:27.821508Z",
     "shell.execute_reply.started": "2022-01-29T14:19:14.870049Z"
    },
    "papermill": {
     "duration": 0.025367,
     "end_time": "2022-01-29T14:21:27.821679",
     "exception": false,
     "start_time": "2022-01-29T14:21:27.796312",
     "status": "completed"
    },
    "tags": []
   },
   "outputs": [],
   "source": [
    "#q1.hint()\n",
    "#q1.solution()"
   ]
  },
  {
   "cell_type": "markdown",
   "id": "d433d2be",
   "metadata": {
    "papermill": {
     "duration": 0.018392,
     "end_time": "2022-01-29T14:21:27.859102",
     "exception": false,
     "start_time": "2022-01-29T14:21:27.840710",
     "status": "completed"
    },
    "tags": []
   },
   "source": [
    "## 2.\n",
    "What is the best wine I can buy for a given amount of money? Create a `Series` whose index is wine prices and whose values is the maximum number of points a wine costing that much was given in a review. Sort the values by price, ascending (so that `4.0` dollars is at the top and `3300.0` dollars is at the bottom)."
   ]
  },
  {
   "cell_type": "code",
   "execution_count": 4,
   "id": "fb297069",
   "metadata": {
    "execution": {
     "iopub.execute_input": "2022-01-29T14:21:27.900324Z",
     "iopub.status.busy": "2022-01-29T14:21:27.899358Z",
     "iopub.status.idle": "2022-01-29T14:21:27.912403Z",
     "shell.execute_reply": "2022-01-29T14:21:27.912986Z",
     "shell.execute_reply.started": "2022-01-29T14:19:32.302336Z"
    },
    "papermill": {
     "duration": 0.035244,
     "end_time": "2022-01-29T14:21:27.913161",
     "exception": false,
     "start_time": "2022-01-29T14:21:27.877917",
     "status": "completed"
    },
    "tags": []
   },
   "outputs": [
    {
     "data": {
      "application/javascript": [
       "parent.postMessage({\"jupyterEvent\": \"custom.exercise_interaction\", \"data\": {\"outcomeType\": 1, \"valueTowardsCompletion\": 0.16666666666666666, \"interactionType\": 1, \"questionType\": 1, \"questionId\": \"2_BestRatingPerPrice\", \"learnToolsVersion\": \"0.3.4\", \"failureMessage\": \"\", \"exceptionClass\": \"\", \"trace\": \"\"}}, \"*\")"
      ],
      "text/plain": [
       "<IPython.core.display.Javascript object>"
      ]
     },
     "metadata": {},
     "output_type": "display_data"
    },
    {
     "data": {
      "text/markdown": [
       "<span style=\"color:#33cc33\">Correct</span>"
      ],
      "text/plain": [
       "Correct"
      ]
     },
     "metadata": {},
     "output_type": "display_data"
    }
   ],
   "source": [
    "best_rating_per_price = reviews.groupby('price')['points'].max().sort_index()\n",
    "\n",
    "# Check your answer\n",
    "q2.check()"
   ]
  },
  {
   "cell_type": "code",
   "execution_count": 5,
   "id": "3bd4cad1",
   "metadata": {
    "execution": {
     "iopub.execute_input": "2022-01-29T14:21:27.956798Z",
     "iopub.status.busy": "2022-01-29T14:21:27.955833Z",
     "iopub.status.idle": "2022-01-29T14:21:27.958869Z",
     "shell.execute_reply": "2022-01-29T14:21:27.959464Z",
     "shell.execute_reply.started": "2022-01-29T14:19:36.588224Z"
    },
    "papermill": {
     "duration": 0.026713,
     "end_time": "2022-01-29T14:21:27.959636",
     "exception": false,
     "start_time": "2022-01-29T14:21:27.932923",
     "status": "completed"
    },
    "tags": []
   },
   "outputs": [],
   "source": [
    "#q2.hint()\n",
    "#q2.solution()"
   ]
  },
  {
   "cell_type": "markdown",
   "id": "f2c78b94",
   "metadata": {
    "papermill": {
     "duration": 0.01951,
     "end_time": "2022-01-29T14:21:27.999061",
     "exception": false,
     "start_time": "2022-01-29T14:21:27.979551",
     "status": "completed"
    },
    "tags": []
   },
   "source": [
    "## 3.\n",
    "What are the minimum and maximum prices for each `variety` of wine? Create a `DataFrame` whose index is the `variety` category from the dataset and whose values are the `min` and `max` values thereof."
   ]
  },
  {
   "cell_type": "code",
   "execution_count": 6,
   "id": "8185f944",
   "metadata": {
    "execution": {
     "iopub.execute_input": "2022-01-29T14:21:28.043001Z",
     "iopub.status.busy": "2022-01-29T14:21:28.041929Z",
     "iopub.status.idle": "2022-01-29T14:21:28.071399Z",
     "shell.execute_reply": "2022-01-29T14:21:28.072000Z",
     "shell.execute_reply.started": "2022-01-29T14:19:50.727552Z"
    },
    "papermill": {
     "duration": 0.053302,
     "end_time": "2022-01-29T14:21:28.072189",
     "exception": false,
     "start_time": "2022-01-29T14:21:28.018887",
     "status": "completed"
    },
    "tags": []
   },
   "outputs": [
    {
     "data": {
      "application/javascript": [
       "parent.postMessage({\"jupyterEvent\": \"custom.exercise_interaction\", \"data\": {\"outcomeType\": 1, \"valueTowardsCompletion\": 0.16666666666666666, \"interactionType\": 1, \"questionType\": 1, \"questionId\": \"3_PriceExtremes\", \"learnToolsVersion\": \"0.3.4\", \"failureMessage\": \"\", \"exceptionClass\": \"\", \"trace\": \"\"}}, \"*\")"
      ],
      "text/plain": [
       "<IPython.core.display.Javascript object>"
      ]
     },
     "metadata": {},
     "output_type": "display_data"
    },
    {
     "data": {
      "text/markdown": [
       "<span style=\"color:#33cc33\">Correct</span>"
      ],
      "text/plain": [
       "Correct"
      ]
     },
     "metadata": {},
     "output_type": "display_data"
    }
   ],
   "source": [
    "price_extremes = reviews.groupby('variety').price.agg([min, max])\n",
    "\n",
    "# Check your answer\n",
    "q3.check()"
   ]
  },
  {
   "cell_type": "code",
   "execution_count": 7,
   "id": "222d9be8",
   "metadata": {
    "execution": {
     "iopub.execute_input": "2022-01-29T14:21:28.118136Z",
     "iopub.status.busy": "2022-01-29T14:21:28.116995Z",
     "iopub.status.idle": "2022-01-29T14:21:28.120210Z",
     "shell.execute_reply": "2022-01-29T14:21:28.120833Z",
     "shell.execute_reply.started": "2022-01-29T14:19:54.693514Z"
    },
    "papermill": {
     "duration": 0.027976,
     "end_time": "2022-01-29T14:21:28.120989",
     "exception": false,
     "start_time": "2022-01-29T14:21:28.093013",
     "status": "completed"
    },
    "tags": []
   },
   "outputs": [],
   "source": [
    "#q3.hint()\n",
    "#q3.solution()"
   ]
  },
  {
   "cell_type": "markdown",
   "id": "01571a57",
   "metadata": {
    "papermill": {
     "duration": 0.02061,
     "end_time": "2022-01-29T14:21:28.162585",
     "exception": false,
     "start_time": "2022-01-29T14:21:28.141975",
     "status": "completed"
    },
    "tags": []
   },
   "source": [
    "## 4.\n",
    "What are the most expensive wine varieties? Create a variable `sorted_varieties` containing a copy of the dataframe from the previous question where varieties are sorted in descending order based on minimum price, then on maximum price (to break ties)."
   ]
  },
  {
   "cell_type": "code",
   "execution_count": 8,
   "id": "326d331c",
   "metadata": {
    "execution": {
     "iopub.execute_input": "2022-01-29T14:21:28.210603Z",
     "iopub.status.busy": "2022-01-29T14:21:28.209639Z",
     "iopub.status.idle": "2022-01-29T14:21:28.216890Z",
     "shell.execute_reply": "2022-01-29T14:21:28.217500Z",
     "shell.execute_reply.started": "2022-01-29T14:20:07.069789Z"
    },
    "papermill": {
     "duration": 0.034395,
     "end_time": "2022-01-29T14:21:28.217681",
     "exception": false,
     "start_time": "2022-01-29T14:21:28.183286",
     "status": "completed"
    },
    "tags": []
   },
   "outputs": [
    {
     "data": {
      "application/javascript": [
       "parent.postMessage({\"jupyterEvent\": \"custom.exercise_interaction\", \"data\": {\"outcomeType\": 1, \"valueTowardsCompletion\": 0.16666666666666666, \"interactionType\": 1, \"questionType\": 1, \"questionId\": \"4_SortedVarieties\", \"learnToolsVersion\": \"0.3.4\", \"failureMessage\": \"\", \"exceptionClass\": \"\", \"trace\": \"\"}}, \"*\")"
      ],
      "text/plain": [
       "<IPython.core.display.Javascript object>"
      ]
     },
     "metadata": {},
     "output_type": "display_data"
    },
    {
     "data": {
      "text/markdown": [
       "<span style=\"color:#33cc33\">Correct</span>"
      ],
      "text/plain": [
       "Correct"
      ]
     },
     "metadata": {},
     "output_type": "display_data"
    }
   ],
   "source": [
    "sorted_varieties = price_extremes.sort_values(by=['min', 'max'], ascending=False)\n",
    "\n",
    "# Check your answer\n",
    "q4.check()"
   ]
  },
  {
   "cell_type": "code",
   "execution_count": 9,
   "id": "1d844f52",
   "metadata": {
    "execution": {
     "iopub.execute_input": "2022-01-29T14:21:28.264987Z",
     "iopub.status.busy": "2022-01-29T14:21:28.264339Z",
     "iopub.status.idle": "2022-01-29T14:21:28.266967Z",
     "shell.execute_reply": "2022-01-29T14:21:28.266474Z",
     "shell.execute_reply.started": "2022-01-29T14:19:59.808303Z"
    },
    "papermill": {
     "duration": 0.028007,
     "end_time": "2022-01-29T14:21:28.267100",
     "exception": false,
     "start_time": "2022-01-29T14:21:28.239093",
     "status": "completed"
    },
    "tags": []
   },
   "outputs": [],
   "source": [
    "#q4.hint()\n",
    "#q4.solution()"
   ]
  },
  {
   "cell_type": "markdown",
   "id": "e3e32f25",
   "metadata": {
    "papermill": {
     "duration": 0.022801,
     "end_time": "2022-01-29T14:21:28.312538",
     "exception": false,
     "start_time": "2022-01-29T14:21:28.289737",
     "status": "completed"
    },
    "tags": []
   },
   "source": [
    "## 5.\n",
    "Create a `Series` whose index is reviewers and whose values is the average review score given out by that reviewer. Hint: you will need the `taster_name` and `points` columns."
   ]
  },
  {
   "cell_type": "code",
   "execution_count": 10,
   "id": "ca148c6f",
   "metadata": {
    "execution": {
     "iopub.execute_input": "2022-01-29T14:21:28.375150Z",
     "iopub.status.busy": "2022-01-29T14:21:28.374470Z",
     "iopub.status.idle": "2022-01-29T14:21:28.382946Z",
     "shell.execute_reply": "2022-01-29T14:21:28.382432Z",
     "shell.execute_reply.started": "2022-01-29T14:20:25.894548Z"
    },
    "papermill": {
     "duration": 0.049006,
     "end_time": "2022-01-29T14:21:28.383079",
     "exception": false,
     "start_time": "2022-01-29T14:21:28.334073",
     "status": "completed"
    },
    "tags": []
   },
   "outputs": [
    {
     "data": {
      "application/javascript": [
       "parent.postMessage({\"jupyterEvent\": \"custom.exercise_interaction\", \"data\": {\"outcomeType\": 1, \"valueTowardsCompletion\": 0.16666666666666666, \"interactionType\": 1, \"questionType\": 1, \"questionId\": \"5_ReviewerMeanRatings\", \"learnToolsVersion\": \"0.3.4\", \"failureMessage\": \"\", \"exceptionClass\": \"\", \"trace\": \"\"}}, \"*\")"
      ],
      "text/plain": [
       "<IPython.core.display.Javascript object>"
      ]
     },
     "metadata": {},
     "output_type": "display_data"
    },
    {
     "data": {
      "text/markdown": [
       "<span style=\"color:#33cc33\">Correct</span>"
      ],
      "text/plain": [
       "Correct"
      ]
     },
     "metadata": {},
     "output_type": "display_data"
    }
   ],
   "source": [
    "reviewer_mean_ratings = reviews.groupby('taster_name').points.mean()\n",
    "\n",
    "# Check your answer\n",
    "q5.check()"
   ]
  },
  {
   "cell_type": "code",
   "execution_count": 11,
   "id": "11af0a5d",
   "metadata": {
    "execution": {
     "iopub.execute_input": "2022-01-29T14:21:28.431922Z",
     "iopub.status.busy": "2022-01-29T14:21:28.431307Z",
     "iopub.status.idle": "2022-01-29T14:21:28.433859Z",
     "shell.execute_reply": "2022-01-29T14:21:28.434334Z",
     "shell.execute_reply.started": "2022-01-29T14:20:29.820925Z"
    },
    "papermill": {
     "duration": 0.028842,
     "end_time": "2022-01-29T14:21:28.434499",
     "exception": false,
     "start_time": "2022-01-29T14:21:28.405657",
     "status": "completed"
    },
    "tags": []
   },
   "outputs": [],
   "source": [
    "#q5.hint()\n",
    "#q5.solution()"
   ]
  },
  {
   "cell_type": "markdown",
   "id": "7bab2962",
   "metadata": {
    "papermill": {
     "duration": 0.021995,
     "end_time": "2022-01-29T14:21:28.478681",
     "exception": false,
     "start_time": "2022-01-29T14:21:28.456686",
     "status": "completed"
    },
    "tags": []
   },
   "source": [
    "Are there significant differences in the average scores assigned by the various reviewers? Run the cell below to use the `describe()` method to see a summary of the range of values."
   ]
  },
  {
   "cell_type": "code",
   "execution_count": 12,
   "id": "aabea313",
   "metadata": {
    "execution": {
     "iopub.execute_input": "2022-01-29T14:21:28.526096Z",
     "iopub.status.busy": "2022-01-29T14:21:28.525492Z",
     "iopub.status.idle": "2022-01-29T14:21:28.536365Z",
     "shell.execute_reply": "2022-01-29T14:21:28.536840Z"
    },
    "papermill": {
     "duration": 0.035976,
     "end_time": "2022-01-29T14:21:28.537010",
     "exception": false,
     "start_time": "2022-01-29T14:21:28.501034",
     "status": "completed"
    },
    "tags": []
   },
   "outputs": [
    {
     "data": {
      "text/plain": [
       "count    19.000000\n",
       "mean     88.233026\n",
       "std       1.243610\n",
       "min      85.855422\n",
       "25%      87.323501\n",
       "50%      88.536235\n",
       "75%      88.975256\n",
       "max      90.562551\n",
       "Name: points, dtype: float64"
      ]
     },
     "execution_count": 12,
     "metadata": {},
     "output_type": "execute_result"
    }
   ],
   "source": [
    "reviewer_mean_ratings.describe()"
   ]
  },
  {
   "cell_type": "markdown",
   "id": "58e84fb9",
   "metadata": {
    "papermill": {
     "duration": 0.022316,
     "end_time": "2022-01-29T14:21:28.582582",
     "exception": false,
     "start_time": "2022-01-29T14:21:28.560266",
     "status": "completed"
    },
    "tags": []
   },
   "source": [
    "## 6.\n",
    "What combination of countries and varieties are most common? Create a `Series` whose index is a `MultiIndex`of `{country, variety}` pairs. For example, a pinot noir produced in the US should map to `{\"US\", \"Pinot Noir\"}`. Sort the values in the `Series` in descending order based on wine count."
   ]
  },
  {
   "cell_type": "code",
   "execution_count": 13,
   "id": "34171d43",
   "metadata": {
    "execution": {
     "iopub.execute_input": "2022-01-29T14:21:28.649256Z",
     "iopub.status.busy": "2022-01-29T14:21:28.648581Z",
     "iopub.status.idle": "2022-01-29T14:21:28.675913Z",
     "shell.execute_reply": "2022-01-29T14:21:28.676338Z",
     "shell.execute_reply.started": "2022-01-29T14:20:43.733397Z"
    },
    "papermill": {
     "duration": 0.070736,
     "end_time": "2022-01-29T14:21:28.676509",
     "exception": false,
     "start_time": "2022-01-29T14:21:28.605773",
     "status": "completed"
    },
    "tags": []
   },
   "outputs": [
    {
     "data": {
      "application/javascript": [
       "parent.postMessage({\"jupyterEvent\": \"custom.exercise_interaction\", \"data\": {\"outcomeType\": 1, \"valueTowardsCompletion\": 0.16666666666666666, \"interactionType\": 1, \"questionType\": 1, \"questionId\": \"6_GroupbyCountryVariety\", \"learnToolsVersion\": \"0.3.4\", \"failureMessage\": \"\", \"exceptionClass\": \"\", \"trace\": \"\"}}, \"*\")"
      ],
      "text/plain": [
       "<IPython.core.display.Javascript object>"
      ]
     },
     "metadata": {},
     "output_type": "display_data"
    },
    {
     "data": {
      "text/markdown": [
       "<span style=\"color:#33cc33\">Correct</span>"
      ],
      "text/plain": [
       "Correct"
      ]
     },
     "metadata": {},
     "output_type": "display_data"
    }
   ],
   "source": [
    "country_variety_counts = reviews.groupby(['country', 'variety']).size().sort_values(ascending=False)\n",
    "\n",
    "# Check your answer\n",
    "q6.check()"
   ]
  },
  {
   "cell_type": "code",
   "execution_count": 14,
   "id": "794634dc",
   "metadata": {
    "execution": {
     "iopub.execute_input": "2022-01-29T14:21:28.727807Z",
     "iopub.status.busy": "2022-01-29T14:21:28.727145Z",
     "iopub.status.idle": "2022-01-29T14:21:28.729773Z",
     "shell.execute_reply": "2022-01-29T14:21:28.730286Z",
     "shell.execute_reply.started": "2022-01-29T14:20:47.588243Z"
    },
    "papermill": {
     "duration": 0.029943,
     "end_time": "2022-01-29T14:21:28.730466",
     "exception": false,
     "start_time": "2022-01-29T14:21:28.700523",
     "status": "completed"
    },
    "tags": []
   },
   "outputs": [],
   "source": [
    "#q6.hint()\n",
    "#q6.solution()"
   ]
  },
  {
   "cell_type": "markdown",
   "id": "9b2fc5e5",
   "metadata": {
    "papermill": {
     "duration": 0.023805,
     "end_time": "2022-01-29T14:21:28.777954",
     "exception": false,
     "start_time": "2022-01-29T14:21:28.754149",
     "status": "completed"
    },
    "tags": []
   },
   "source": [
    "# Keep going\n",
    "\n",
    "Move on to the [**data types and missing data**](https://www.kaggle.com/residentmario/data-types-and-missing-values)."
   ]
  },
  {
   "cell_type": "markdown",
   "id": "e745b844",
   "metadata": {
    "papermill": {
     "duration": 0.024408,
     "end_time": "2022-01-29T14:21:28.826458",
     "exception": false,
     "start_time": "2022-01-29T14:21:28.802050",
     "status": "completed"
    },
    "tags": []
   },
   "source": [
    "---\n",
    "\n",
    "\n",
    "\n",
    "\n",
    "*Have questions or comments? Visit the [course discussion forum](https://www.kaggle.com/learn/pandas/discussion) to chat with other learners.*"
   ]
  }
 ],
 "metadata": {
  "kernelspec": {
   "display_name": "Python 3",
   "language": "python",
   "name": "python3"
  },
  "language_info": {
   "codemirror_mode": {
    "name": "ipython",
    "version": 3
   },
   "file_extension": ".py",
   "mimetype": "text/x-python",
   "name": "python",
   "nbconvert_exporter": "python",
   "pygments_lexer": "ipython3",
   "version": "3.7.12"
  },
  "papermill": {
   "default_parameters": {},
   "duration": 14.442588,
   "end_time": "2022-01-29T14:21:29.460095",
   "environment_variables": {},
   "exception": null,
   "input_path": "__notebook__.ipynb",
   "output_path": "__notebook__.ipynb",
   "parameters": {},
   "start_time": "2022-01-29T14:21:15.017507",
   "version": "2.3.3"
  }
 },
 "nbformat": 4,
 "nbformat_minor": 5
}
